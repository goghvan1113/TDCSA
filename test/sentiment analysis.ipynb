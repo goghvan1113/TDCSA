{
 "cells": [
  {
   "cell_type": "code",
   "execution_count": 7,
   "id": "3a6a143281a31e46",
   "metadata": {
    "ExecuteTime": {
     "end_time": "2024-09-12T06:50:58.551656Z",
     "start_time": "2024-09-12T06:50:56.403226Z"
    }
   },
   "outputs": [],
   "source": [
    "import random\n",
    "from transformers import pipeline\n",
    "import matplotlib.pyplot as plt\n",
    "import pandas as pd\n",
    "import seaborn as sns\n",
    "import torch\n",
    "import torch.nn.functional as F\n",
    "import numpy as np\n",
    "from huggingface_hub import notebook_login\n",
    "import wandb\n",
    "import os\n",
    "\n",
    "from sklearn.model_selection import train_test_split\n",
    "from transformers import AutoTokenizer, AutoModelForSequenceClassification, Trainer, TrainingArguments\n",
    "from transformers import DataCollatorWithPadding"
   ]
  },
  {
   "cell_type": "code",
   "execution_count": 8,
   "id": "93c153111e3fc428",
   "metadata": {},
   "outputs": [],
   "source": [
    "# print(torch.__version__)\n",
    "# print(torch.backends.cudnn.version())\n",
    "# print(torchvision.__version__)\n",
    "# print(torchtext.__version__)"
   ]
  },
  {
   "cell_type": "code",
   "execution_count": 9,
   "id": "2ef261e25aba5ee0",
   "metadata": {
    "ExecuteTime": {
     "end_time": "2024-09-12T06:50:58.630799Z",
     "start_time": "2024-09-12T06:50:58.599708Z"
    }
   },
   "outputs": [
    {
     "name": "stdout",
     "output_type": "stream",
     "text": [
      "cuda\n"
     ]
    }
   ],
   "source": [
    "seed = 42\n",
    "random.seed(seed)\n",
    "np.random.seed(seed)\n",
    "torch.manual_seed(seed)\n",
    "if torch.cuda.is_available():\n",
    "    torch.cuda.manual_seed(seed)\n",
    "    torch.cuda.manual_seed_all(seed)\n",
    "torch.backends.cudnn.deterministic = True\n",
    "torch.backends.cudnn.benchmark     = False  # 启用Cudnn\n",
    "\n",
    "device = torch.device('cuda' if torch.cuda.is_available() else 'cpu')\n",
    "print(device)"
   ]
  },
  {
   "cell_type": "code",
   "execution_count": 10,
   "id": "2428764fea22eab9",
   "metadata": {
    "ExecuteTime": {
     "end_time": "2024-09-12T06:50:58.724828Z",
     "start_time": "2024-09-12T06:50:58.711776Z"
    }
   },
   "outputs": [],
   "source": [
    "text_neg = \"However, it is well-known that the WSR maximization problem is NP-hard\"\n",
    "text_pos = \"The paper provides a valuable insight into the topic.\"\n",
    "text_neu = \"MASSIVE MU-MIMO is one of the key enabling technologies for the fifth-generation and next-generation networks\"\n",
    "text1 = \"“在Smith的研究基础上，我们进一步探讨了...（Smith, 2010）\"\n",
    "text2 = \"本研究采用了类似于Johnson等人提出的方法...（Johnson et al., 2011）\"\n",
    "text3 = \"Unlike recent language representation models (Peters et al., 2018a; Radford et al., 2018), BERT is designed to pretrain deep bidirectional representations from unlabeled text by jointly conditioning on both left and right context in all layers.\""
   ]
  },
  {
   "cell_type": "markdown",
   "id": "6fd721eec0ef86ca",
   "metadata": {},
   "source": [
    "## BERT-based模型"
   ]
  },
  {
   "cell_type": "code",
   "execution_count": 13,
   "id": "68b8fc19",
   "metadata": {
    "ExecuteTime": {
     "end_time": "2024-09-12T06:50:58.754989Z",
     "start_time": "2024-09-12T06:50:58.743473Z"
    }
   },
   "outputs": [],
   "source": [
    "TEST_DATASET_SIZE = 0.4\n",
    "NUM_LABELS = 3\n",
    "BASE_MODEL_PATH = '../pretrain_models/distilbert-base-uncased'"
   ]
  },
  {
   "cell_type": "markdown",
   "id": "c4c5579527e17f52",
   "metadata": {},
   "source": [
    "## Arthar Dataset"
   ]
  },
  {
   "cell_type": "markdown",
   "id": "1eab1edaba649cbe",
   "metadata": {},
   "source": [
    "Analysis of the citation corpus manually annotated by Awais Athar.\n",
    "\n",
    "The script will download and unzip the citation sentiment corpus from http://cl.awaisathar.com/citation-sentiment-corpus/.\n",
    "\n",
    "This dataset contains 8736 sentences taken from different scientific papers. These sentences ares classified as positive (p), negative (n) or neutral (o)."
   ]
  },
  {
   "cell_type": "code",
   "execution_count": 15,
   "id": "c5d0abcac06be516",
   "metadata": {
    "ExecuteTime": {
     "end_time": "2024-09-11T12:30:30.148374Z",
     "start_time": "2024-09-11T12:30:30.118288Z"
    }
   },
   "outputs": [
    {
     "name": "stdout",
     "output_type": "stream",
     "text": [
      "(8736, 4)\n"
     ]
    },
    {
     "data": {
      "text/html": [
       "<div>\n",
       "<style scoped>\n",
       "    .dataframe tbody tr th:only-of-type {\n",
       "        vertical-align: middle;\n",
       "    }\n",
       "\n",
       "    .dataframe tbody tr th {\n",
       "        vertical-align: top;\n",
       "    }\n",
       "\n",
       "    .dataframe thead th {\n",
       "        text-align: right;\n",
       "    }\n",
       "</style>\n",
       "<table border=\"1\" class=\"dataframe\">\n",
       "  <thead>\n",
       "    <tr style=\"text-align: right;\">\n",
       "      <th></th>\n",
       "      <th>Source_Paper_ID</th>\n",
       "      <th>Target_Paper_ID</th>\n",
       "      <th>Sentiment</th>\n",
       "      <th>Citation_Text</th>\n",
       "    </tr>\n",
       "  </thead>\n",
       "  <tbody>\n",
       "    <tr>\n",
       "      <th>0</th>\n",
       "      <td>A00-1043</td>\n",
       "      <td>A00-2024</td>\n",
       "      <td>o</td>\n",
       "      <td>We analyzed a set of articles and identified s...</td>\n",
       "    </tr>\n",
       "    <tr>\n",
       "      <th>1</th>\n",
       "      <td>H05-1033</td>\n",
       "      <td>A00-2024</td>\n",
       "      <td>o</td>\n",
       "      <td>Table 3: Example compressions Compression AvgL...</td>\n",
       "    </tr>\n",
       "    <tr>\n",
       "      <th>2</th>\n",
       "      <td>I05-2009</td>\n",
       "      <td>A00-2024</td>\n",
       "      <td>o</td>\n",
       "      <td>5.3 Related works and discussion Our two-step ...</td>\n",
       "    </tr>\n",
       "    <tr>\n",
       "      <th>3</th>\n",
       "      <td>I05-2009</td>\n",
       "      <td>A00-2024</td>\n",
       "      <td>o</td>\n",
       "      <td>(1999) proposed a summarization system based o...</td>\n",
       "    </tr>\n",
       "    <tr>\n",
       "      <th>4</th>\n",
       "      <td>I05-2009</td>\n",
       "      <td>A00-2024</td>\n",
       "      <td>o</td>\n",
       "      <td>We found that the deletion of lead parts did n...</td>\n",
       "    </tr>\n",
       "  </tbody>\n",
       "</table>\n",
       "</div>"
      ],
      "text/plain": [
       "  Source_Paper_ID Target_Paper_ID Sentiment  \\\n",
       "0        A00-1043        A00-2024         o   \n",
       "1        H05-1033        A00-2024         o   \n",
       "2        I05-2009        A00-2024         o   \n",
       "3        I05-2009        A00-2024         o   \n",
       "4        I05-2009        A00-2024         o   \n",
       "\n",
       "                                       Citation_Text  \n",
       "0  We analyzed a set of articles and identified s...  \n",
       "1  Table 3: Example compressions Compression AvgL...  \n",
       "2  5.3 Related works and discussion Our two-step ...  \n",
       "3  (1999) proposed a summarization system based o...  \n",
       "4  We found that the deletion of lead parts did n...  "
      ]
     },
     "execution_count": 15,
     "metadata": {},
     "output_type": "execute_result"
    }
   ],
   "source": [
    "DATA_PATH = '../data/citation_sentiment_corpus.csv'\n",
    "df = pd.read_csv(DATA_PATH)\n",
    "print(df.shape)\n",
    "df.head()"
   ]
  },
  {
   "cell_type": "code",
   "execution_count": 16,
   "id": "aa94081fbbe36c8b",
   "metadata": {
    "ExecuteTime": {
     "end_time": "2024-09-11T12:30:30.211498Z",
     "start_time": "2024-09-11T12:30:30.196469Z"
    }
   },
   "outputs": [
    {
     "name": "stdout",
     "output_type": "stream",
     "text": [
      "(8736, 4)\n"
     ]
    }
   ],
   "source": [
    "df = df[df['Citation_Text'] != '']\n",
    "df = df[df['Source_Paper_ID'] != '']\n",
    "df = df[df['Target_Paper_ID'] != '']\n",
    "df = df[df['Sentiment'] != '']\n",
    "df = df.dropna()\n",
    "\n",
    "label_map = {'o': 0, 'p': 1, 'n': 2}\n",
    "df['Sentiment'] = df['Sentiment'].map(label_map)\n",
    "\n",
    "print(df.shape)"
   ]
  },
  {
   "cell_type": "code",
   "execution_count": 17,
   "id": "4b8ef35cedaf4590",
   "metadata": {
    "ExecuteTime": {
     "end_time": "2024-09-11T12:30:30.335808Z",
     "start_time": "2024-09-11T12:30:30.244534Z"
    }
   },
   "outputs": [
    {
     "data": {
      "image/png": "[encoded data removed]",
      "text/plain": [
       "<Figure size 800x600 with 1 Axes>"
      ]
     },
     "metadata": {},
     "output_type": "display_data"
    }
   ],
   "source": [
    "fig, ax = plt.subplots(figsize=(8,6))\n",
    "df.Sentiment.value_counts().plot(kind = 'bar',ax=ax)\n",
    "for i, count in enumerate(df.Sentiment.value_counts()):\n",
    "    ax.text(i, count, str(count), ha='center', va='bottom')\n",
    "plt.xlabel('Citation Sentiments')\n",
    "plt.ylabel('Values count')\n",
    "plt.show()"
   ]
  },
  {
   "cell_type": "markdown",
   "id": "b7a234687a38168",
   "metadata": {},
   "source": [
    "## nlpaug库"
   ]
  },
  {
   "cell_type": "markdown",
   "id": "b376da42e5296b9e",
   "metadata": {},
   "source": [
    "Contextual Word Embeddings Augmenter"
   ]
  },
  {
   "cell_type": "code",
   "execution_count": 3,
   "id": "a7dae905042e3df3",
   "metadata": {
    "ExecuteTime": {
     "end_time": "2024-09-30T05:27:19.827180Z",
     "start_time": "2024-09-30T05:27:17.430772Z"
    }
   },
   "outputs": [],
   "source": [
    "import nlpaug.augmenter.word as naw\n",
    "import nlpaug.augmenter.sentence as nas\n",
    "\n",
    "text = 'We analyzed a set of articles and identified six major operations that can be used for editing the extracted sentences, including removing extraneous phrases from an extracted sentence, combining a reduced sentence with other sentences, syntactic transformation, substituting phrases in an extracted sentence with their paraphrases, substituting phrases with more general or specific descriptions, and reordering the extracted sentences (Jing and McKeown, 1999; Jing and McKeown, 2000).'\n",
    "aug = naw.ContextualWordEmbsAug(\n",
    "    model_path=f'./pretrain_models/roberta-large', action=\"insert\")\n",
    "augmented_text = aug.augment(text)\n",
    "print(\"Original:\")\n",
    "print(text)\n",
    "print(\"Augmented Text:\")\n",
    "print(augmented_text)"
   ]
  },
  {
   "cell_type": "code",
   "execution_count": 4,
   "id": "1d91a59657b00a2d",
   "metadata": {
    "ExecuteTime": {
     "end_time": "2024-09-30T05:27:26.200077Z",
     "start_time": "2024-09-30T05:27:24.922014Z"
    }
   },
   "outputs": [],
   "source": [
    "aug = naw.ContextualWordEmbsAug(\n",
    "    model_path=f'./pretrain_models/roberta-large', action=\"substitute\")\n",
    "augmented_text = aug.augment(text)\n",
    "print(\"Original:\")\n",
    "print(text)\n",
    "print(\"Augmented Text:\")\n",
    "print(augmented_text)"
   ]
  },
  {
   "cell_type": "markdown",
   "id": "cecad8548c88b0bb",
   "metadata": {},
   "source": [
    "Contextual Word Embeddings for Sentence Augmenter"
   ]
  },
  {
   "cell_type": "code",
   "execution_count": 5,
   "id": "6b91d3df57803302",
   "metadata": {
    "ExecuteTime": {
     "end_time": "2024-09-30T05:30:06.403581Z",
     "start_time": "2024-09-30T05:30:04.079928Z"
    }
   },
   "outputs": [],
   "source": [
    "# # model_path: xlnet-base-cased or gpt2\n",
    "# aug = nas.ContextualWordEmbsForSentenceAug(model_path=f'pretrain_models/xlnet-base-cased')\n",
    "# augmented_texts = aug.augment(text, n=3)\n",
    "# print(\"Original:\")\n",
    "# print(text)\n",
    "# print(\"Augmented Texts:\")\n",
    "# print(augmented_texts)"
   ]
  },
  {
   "cell_type": "code",
   "execution_count": 6,
   "id": "3c4d57f69022efd6",
   "metadata": {
    "ExecuteTime": {
     "end_time": "2024-09-30T05:30:21.788151Z",
     "start_time": "2024-09-30T05:30:20.136171Z"
    }
   },
   "outputs": [],
   "source": [
    "aug = nas.ContextualWordEmbsForSentenceAug(model_path=f'./pretrain_models/distilgpt2-finetune-acl22')\n",
    "augmented_text = aug.augment(text)\n",
    "print(\"Original:\")\n",
    "print(text)\n",
    "print(\"Augmented Text:\")\n",
    "print(augmented_text)"
   ]
  },
  {
   "cell_type": "markdown",
   "id": "563c4f47",
   "metadata": {},
   "source": [
    "## 尝试欠采样和过采样"
   ]
  },
  {
   "cell_type": "code",
   "execution_count": 11,
   "id": "9b4e012da3c28765",
   "metadata": {
    "ExecuteTime": {
     "end_time": "2024-09-11T12:30:30.351810Z",
     "start_time": "2024-09-11T12:30:30.343319Z"
    }
   },
   "outputs": [],
   "source": [
    "# from sklearn.feature_extraction.text import TfidfVectorizer\n",
    "# from imblearn.over_sampling import SMOTE\n",
    "# from imblearn.under_sampling import RandomUnderSampler\n",
    "# from imblearn.pipeline import Pipeline\n",
    "# \n",
    "# # 分离特征和标签\n",
    "# X_text = df['Citation_Text']\n",
    "# y = df['Sentiment']\n",
    "# \n",
    "# vectorizer = TfidfVectorizer(max_features=1000)\n",
    "# X_vectorized = vectorizer.fit_transform(X_text)\n",
    "# \n",
    "# # 过采样策略：1500个正样本，1500个负样本，欠采样策略：3000个中性样本\n",
    "# over = SMOTE(sampling_strategy={1: 1500, 2: 1500}, k_neighbors=2, random_state=42)\n",
    "# under = RandomUnderSampler(sampling_strategy={0: 3000}, random_state=42)\n",
    "# \n",
    "# # 应用过采样和欠采样\n",
    "# pipeline = Pipeline(steps=[('o', over), ('u', under)])\n",
    "# X_resampled, y_resampled = pipeline.fit_resample(X_vectorized, y)\n",
    "# X_resampled = vectorizer.inverse_transform(X_resampled)\n",
    "# X_resampled = [' '.join(words) for words in X_resampled]\n",
    "# \n",
    "# resampled_df = pd.concat([pd.DataFrame(X_resampled, columns=['Citation_Text']), pd.DataFrame(y_resampled, columns=['Sentiment'])], axis=1)\n",
    "# resampled_df.head()"
   ]
  },
  {
   "cell_type": "markdown",
   "id": "8ec0d18128293abd",
   "metadata": {},
   "source": [
    "## 画出句子长度分布的箱型图"
   ]
  },
  {
   "cell_type": "code",
   "execution_count": 18,
   "id": "d78f3e90a4ef85fb",
   "metadata": {
    "ExecuteTime": {
     "end_time": "2024-09-11T12:30:30.445683Z",
     "start_time": "2024-09-11T12:30:30.368841Z"
    }
   },
   "outputs": [
    {
     "data": {
      "image/png": "[encoded data removed]",
      "text/plain": [
       "<Figure size 640x480 with 1 Axes>"
      ]
     },
     "metadata": {},
     "output_type": "display_data"
    }
   ],
   "source": [
    "df['Sentence_Length'] = df['Citation_Text'].str.len()\n",
    "df.boxplot('Sentence_Length', by='Sentiment', showfliers=False, color='black')\n",
    "plt.show()"
   ]
  },
  {
   "cell_type": "code",
   "execution_count": 19,
   "id": "59c1195e52c62ef5",
   "metadata": {
    "ExecuteTime": {
     "end_time": "2024-09-11T12:30:32.018446Z",
     "start_time": "2024-09-11T12:30:30.462271Z"
    }
   },
   "outputs": [
    {
     "data": {
      "image/png": "[encoded data removed]",
      "text/plain": [
       "<Figure size 800x600 with 1 Axes>"
      ]
     },
     "metadata": {},
     "output_type": "display_data"
    },
    {
     "data": {
      "image/png": "[encoded data removed]",
      "text/plain": [
       "<Figure size 800x600 with 1 Axes>"
      ]
     },
     "metadata": {},
     "output_type": "display_data"
    },
    {
     "data": {
      "image/png": "[encoded data removed]",
      "text/plain": [
       "<Figure size 800x600 with 1 Axes>"
      ]
     },
     "metadata": {},
     "output_type": "display_data"
    }
   ],
   "source": [
    "labels = ['o', 'p', 'n']\n",
    "label_names = ['Neutral', 'Positive', 'Negative']\n",
    "\n",
    "for i, label in enumerate(labels):\n",
    "    subset = df[df['Sentiment'] == label_map[label]]\n",
    "    plt.figure(figsize=(8, 6))\n",
    "    sns.histplot(subset['Sentence_Length'], kde=True, stat=\"density\", linewidth=0, color='skyblue')\n",
    "    plt.title(f'Distribution of Sentence Lengths for {label_names[i]} Sentiment')\n",
    "    plt.xlabel('Sentence Length')\n",
    "    plt.ylabel('Density')\n",
    "    plt.show()"
   ]
  },
  {
   "cell_type": "code",
   "execution_count": 14,
   "id": "85f771a1f36555d7",
   "metadata": {
    "ExecuteTime": {
     "end_time": "2024-09-11T12:30:32.126889Z",
     "start_time": "2024-09-11T12:30:32.034406Z"
    }
   },
   "outputs": [],
   "source": [
    "# Filter sentences longer than 1000 characters\n",
    "long_sentences_df = df[df['Sentence_Length'] > 1000]\n",
    "sentiment_counts = long_sentences_df.groupby('Sentiment').size()\n",
    "\n",
    "df = df[df['Sentence_Length'] <= 1000]\n",
    "print(df.shape)\n",
    "\n",
    "# Plot\n",
    "plt.figure(figsize=(8, 6))\n",
    "sns.barplot(x=sentiment_counts.index, y=sentiment_counts.values, palette='viridis')\n",
    "plt.title('Number of Sentences Longer Than 1000 Characters by Sentiment')\n",
    "plt.xlabel('Sentiment')\n",
    "plt.ylabel('Count')\n",
    "plt.xticks(ticks=range(len(label_map)), labels=['Neutral', 'Positive', 'Negative'])  # Assuming label_map is defined as in the context\n",
    "plt.show()"
   ]
  },
  {
   "cell_type": "markdown",
   "id": "7f24b1533bef739c",
   "metadata": {},
   "source": [
    "## 使用Trainer类微调Citation的情感分析"
   ]
  },
  {
   "cell_type": "code",
   "execution_count": 15,
   "id": "c4f5d22992aa877e",
   "metadata": {
    "ExecuteTime": {
     "end_time": "2024-09-11T12:30:32.173485Z",
     "start_time": "2024-09-11T12:30:32.142946Z"
    }
   },
   "outputs": [],
   "source": [
    "import datasets\n",
    "\n",
    "# 分割数据集：训练集80%，验证集10%，测试集10%\n",
    "train_texts, temp_texts, train_labels, temp_labels = train_test_split(\n",
    "    df['Citation_Text'].tolist(), df['Sentiment'].tolist(), test_size=TEST_DATASET_SIZE, stratify=df['Sentiment'], random_state=42)\n",
    "\n",
    "val_texts, test_texts, val_labels, test_labels = train_test_split(\n",
    "    temp_texts, temp_labels, test_size=0.5, stratify=temp_labels, random_state=42)\n",
    "\n",
    "# 将数据转换为 HuggingFace 的 Dataset 格式\n",
    "train_dataset = datasets.Dataset.from_dict({'text': train_texts, 'label': train_labels})\n",
    "val_dataset = datasets.Dataset.from_dict({'text': val_texts, 'label': val_labels})\n",
    "test_dataset = datasets.Dataset.from_dict({'text': test_texts, 'label': test_labels})\n",
    "emotion_dataset = datasets.DatasetDict({'train': train_dataset, 'validation': val_dataset, 'test': test_dataset})\n",
    "\n",
    "print(f\"Train Dataset Size: {len(train_dataset)}\")\n",
    "print(f\"Test Dataset Size: {len(test_dataset)}\")\n",
    "print(f\"Val Dataset Size: {len(val_dataset)}\")"
   ]
  },
  {
   "cell_type": "code",
   "execution_count": 16,
   "id": "fb32195d",
   "metadata": {
    "ExecuteTime": {
     "end_time": "2024-09-11T12:30:33.120198Z",
     "start_time": "2024-09-11T12:30:32.190527Z"
    }
   },
   "outputs": [],
   "source": [
    "# 分词器\n",
    "tokenizer = AutoTokenizer.from_pretrained(BASE_MODEL_PATH)\n",
    "# padding代表填充批量样本最长的长度 attention_mask代表哪些是padding的，此时模型就忽略输入的填充部分\n",
    "tokenized_datasets = emotion_dataset.map(lambda f: tokenizer(f['text'], padding=True, truncation=True, return_tensors='pt', max_length=512), batch_size=16, batched=True) # WordPiece分词器\n",
    "tokenized_datasets = tokenized_datasets.remove_columns(['text'])\n",
    "# data_collator = DataCollatorWithPadding(tokenizer=tokenizer) # 在这加了datacollatorwithpadding就不用再tokenizer里加padding了\n",
    "pd.DataFrame(tokenized_datasets['validation']).head()"
   ]
  },
  {
   "cell_type": "code",
   "execution_count": 17,
   "id": "2739ba19cb768f37",
   "metadata": {
    "ExecuteTime": {
     "end_time": "2024-09-11T12:30:33.337577Z",
     "start_time": "2024-09-11T12:30:33.167772Z"
    }
   },
   "outputs": [],
   "source": [
    "train_labels_count = {label: train_labels.count(label) for label in set(train_labels)}\n",
    "test_labels_count = {label: test_labels.count(label) for label in set(test_labels)}\n",
    "\n",
    "fig, axes = plt.subplots(1, 2, figsize=(12, 5), sharey=True)\n",
    "fig.suptitle('Label Distribution in Datasets')\n",
    "\n",
    "# Training dataset plot\n",
    "axes[0].bar(train_labels_count.keys(), train_labels_count.values())\n",
    "axes[0].set_title('Training Dataset')\n",
    "axes[0].set_xlabel('Labels')\n",
    "axes[0].set_ylabel('Count')\n",
    "\n",
    "# Testing dataset plot\n",
    "axes[1].bar(test_labels_count.keys(), test_labels_count.values())\n",
    "axes[1].set_title('Testing Dataset')\n",
    "axes[1].set_xlabel('Labels')\n",
    "\n",
    "plt.tight_layout()\n",
    "plt.show()"
   ]
  },
  {
   "cell_type": "markdown",
   "id": "eff034072d8263f2",
   "metadata": {},
   "source": [
    "## Dataloader加载数据集的微调，与用huggingface的datasets类加载数据集相同"
   ]
  },
  {
   "cell_type": "code",
   "execution_count": 18,
   "id": "14332b0191f3cfb6",
   "metadata": {
    "ExecuteTime": {
     "end_time": "2024-09-11T12:30:34.022502Z",
     "start_time": "2024-09-11T12:30:33.369553Z"
    }
   },
   "outputs": [],
   "source": [
    "class MyDataset(torch.utils.data.Dataset):\n",
    "    \"\"\"\n",
    "    重构数据集类，使其能够返回字典格式的数据，有标签\n",
    "    \"\"\"\n",
    "    def __init__(self, encodings, labels):\n",
    "        self.encodings = encodings\n",
    "        self.labels = labels\n",
    "\n",
    "    def __getitem__(self, idx):\n",
    "        item = {key: torch.tensor(val[idx]) for key, val in self.encodings.items()}\n",
    "        item['labels'] = torch.tensor(self.labels[idx])\n",
    "        return item\n",
    "\n",
    "    def __len__(self):\n",
    "        return len(self.labels)\n",
    "\n",
    "\n",
    "train_dataset = MyDataset(tokenizer(train_texts, truncation=True, padding=True, return_tensors='pt', max_length=512), train_labels)\n",
    "test_dataset = MyDataset(tokenizer(test_texts, truncation=True, padding=True, return_tensors='pt', max_length=512), test_labels)\n",
    "val_dataset = MyDataset(tokenizer(val_texts, truncation=True, padding=True, return_tensors='pt', max_length=512), val_labels)\n",
    "\n",
    "print(f\"Train Dataset Size: {len(train_dataset)}\")\n",
    "print(f\"Test Dataset Size: {len(test_dataset)}\")\n",
    "print(f\"Val Dataset Size: {len(val_dataset)}\")"
   ]
  },
  {
   "cell_type": "code",
   "execution_count": 19,
   "id": "1bbf2327",
   "metadata": {
    "ExecuteTime": {
     "end_time": "2024-09-11T12:30:34.053823Z",
     "start_time": "2024-09-11T12:30:34.035282Z"
    }
   },
   "outputs": [],
   "source": [
    "# 分词器测试\n",
    "t = 'tokenizing text is a core task of NLP'\n",
    "print(tokenizer(t, padding=True))\n",
    "tokens = tokenizer.convert_ids_to_tokens(tokenizer(t)['input_ids'])\n",
    "print(tokens)\n",
    "print(tokenizer.convert_tokens_to_string(tokens))\n",
    "print(tokenizer.vocab_size)\n",
    "\n",
    "sample_text = train_texts[random.randint(0, len(train_texts))]\n",
    "print(\"Sample Text:\", sample_text)\n",
    "encoded_input = tokenizer(sample_text, truncation=True, padding=True, return_tensors='pt', max_length=512)\n",
    "print(\"Token IDs:\", encoded_input['input_ids'])\n",
    "decoded_text = tokenizer.decode(encoded_input['input_ids'][0], skip_special_tokens=True)\n",
    "print(\"Decoded Text:\", decoded_text)"
   ]
  },
  {
   "cell_type": "code",
   "execution_count": 20,
   "id": "3b0522f0a2c14728",
   "metadata": {
    "ExecuteTime": {
     "end_time": "2024-09-11T12:30:34.303817Z",
     "start_time": "2024-09-11T12:30:34.070382Z"
    }
   },
   "outputs": [],
   "source": [
    "# 加载DistilBERT模型\n",
    "id2label={0:\"Neutral\", 1:\"Positive\", 2:\"Negative\"}\n",
    "label2id={\"Neutral\":0, \"Positive\":1, \"Negative\":2}\n",
    "model = AutoModelForSequenceClassification.from_pretrained(BASE_MODEL_PATH, id2label=id2label, label2id=label2id, num_labels=NUM_LABELS).to(device)\n",
    "# model = DistilBertForSequenceClassification.from_pretrained(distilbert_model_sst2).to(device)\n",
    "# model.classifier = torch.nn.Linear(model.classifier.in_features, 3) # 修改模型的分类头，使其适应三分类任务\n",
    "\n",
    "# 定义训练参数\n",
    "training_args = TrainingArguments(\n",
    "    output_dir='./results',          # 输出结果目录\n",
    "    # report_to=\"wandb\",\n",
    "    num_train_epochs=3,\n",
    "    learning_rate=5e-6,\n",
    "    per_device_train_batch_size=16,\n",
    "    per_device_eval_batch_size=32,\n",
    "    # weight_decay=0.1,\n",
    "    # warmup_steps=100,\n",
    "    logging_strategy='steps',\n",
    "    logging_dir='./logs',            # 日志目录\n",
    "    logging_steps=50,\n",
    "    eval_strategy=\"steps\",\n",
    "    eval_steps=50,\n",
    "    disable_tqdm=False,\n",
    "    save_strategy=\"steps\",\n",
    "    fp16= torch.cuda.is_available(), # faster and use less memory\n",
    "    # metric_for_best_model='F1',\n",
    "    # load_best_model_at_end=True,\n",
    "    # push_to_hub=True,\n",
    "    # label_smoothing_factor=0.1\n",
    ")"
   ]
  },
  {
   "cell_type": "code",
   "execution_count": 21,
   "id": "2f20932b8f137b17",
   "metadata": {
    "ExecuteTime": {
     "end_time": "2024-09-11T12:30:34.334866Z",
     "start_time": "2024-09-11T12:30:34.320340Z"
    }
   },
   "outputs": [],
   "source": [
    "# 使用Focal loss作为损失函数解决样本不均衡问题\n",
    "def py_sigmoid_focal_loss(pred, target, gamma=2.0, alpha=0.9, reduction='mean'):\n",
    "    pred_sigmoid = pred.sigmoid()\n",
    "    target = torch.nn.functional.one_hot(target, num_classes=pred.shape[1]).type_as(pred)  # 转换为one-hot编码\n",
    "    pt = (1 - pred_sigmoid) * target + pred_sigmoid * (1 - target)\n",
    "    focal_weight = (alpha * target + (1 - alpha) * (1 - target)) * pt.pow(gamma)\n",
    "    loss = F.binary_cross_entropy_with_logits(pred, target, reduction='none') * focal_weight\n",
    "    return loss.mean() if reduction == 'mean' else loss.sum()\n",
    "\n",
    "class MultiFocalLoss(torch.nn.Module):\n",
    "    \"\"\"\n",
    "    Focal_Loss= -1*alpha*((1-pt)**gamma)*log(pt)\n",
    "    Args:\n",
    "        num_class: number of classes\n",
    "        alpha: class balance factor shape=[num_class, ]\n",
    "        gamma: hyper-parameter\n",
    "        reduction: reduction type\n",
    "    \"\"\"\n",
    "\n",
    "    def __init__(self, num_class, alpha=None, gamma=2.0, reduction='mean'):\n",
    "        super(MultiFocalLoss, self).__init__()\n",
    "        self.num_class = num_class\n",
    "        self.gamma = gamma\n",
    "        self.reduction = reduction\n",
    "        self.smooth = 1e-4\n",
    "        self.alpha = alpha\n",
    "        \n",
    "        if alpha is None:\n",
    "            self.alpha = torch.ones(num_class, ) - 0.5\n",
    "        elif isinstance(alpha, (int, float)):\n",
    "            self.alpha = torch.as_tensor([alpha] * num_class)\n",
    "        elif isinstance(alpha, (list, np.ndarray)):\n",
    "            self.alpha = torch.as_tensor(alpha)\n",
    "        if self.alpha.shape[0] != num_class:\n",
    "            raise RuntimeError('the length not equal to number of class')\n",
    "\n",
    "    def forward(self, logit, target):\n",
    "        # assert isinstance(self.alpha,torch.Tensor)\\\n",
    "        alpha = self.alpha.to(logit.device)\n",
    "        prob = F.softmax(logit, dim=1)\n",
    "\n",
    "        if prob.dim() > 2:\n",
    "            # used for 3d-conv:  N,C,d1,d2 -> N,C,m (m=d1*d2*...)\n",
    "            N, C = logit.shape[:2]\n",
    "            prob = prob.view(N, C, -1)\n",
    "            prob = prob.transpose(1, 2).contiguous()  # [N,C,d1*d2..] -> [N,d1*d2..,C]\n",
    "            prob = prob.view(-1, prob.size(-1))  # [N,d1*d2..,C]-> [N*d1*d2..,C]\n",
    "\n",
    "        ori_shp = target.shape\n",
    "        target = target.view(-1, 1)\n",
    "\n",
    "        prob = prob.gather(1, target).view(-1) + self.smooth  # avoid nan\n",
    "        logpt = torch.log(prob)\n",
    "        # alpha_class = alpha.gather(0, target.squeeze(-1))\n",
    "        alpha_weight = alpha[target.squeeze().long()]\n",
    "        loss = -alpha_weight * torch.pow(torch.sub(1.0, prob), self.gamma) * logpt\n",
    "\n",
    "        if self.reduction == 'mean':\n",
    "            loss = loss.mean()\n",
    "        elif self.reduction == 'none':\n",
    "            loss = loss.view(ori_shp)\n",
    "\n",
    "        return loss\n",
    "# DSELoss\n",
    "class MultiDSCLoss(torch.nn.Module):\n",
    "    r\"\"\"\n",
    "    Creates a criterion that optimizes a multi-class Self-adjusting Dice Loss\n",
    "    (\"Dice Loss for Data-imbalanced NLP Tasks\" paper)\n",
    "\n",
    "    Args:\n",
    "        alpha (float): a factor to push down the weight of easy examples\n",
    "        gamma (float): a factor added to both the nominator and the denominator for smoothing purposes\n",
    "        reduction (string): Specifies the reduction to apply to the output:\n",
    "            ``'none'`` | ``'mean'`` | ``'sum'``. ``'none'``: no reduction will be applied,\n",
    "            ``'mean'``: the sum of the output will be divided by the number of\n",
    "            elements in the output, ``'sum'``: the output will be summed.\n",
    "\n",
    "    Shape:\n",
    "        - logits: `(N, C)` where `N` is the batch size and `C` is the number of classes.\n",
    "        - targets: `(N)` where each value is in [0, C - 1]\n",
    "    \"\"\"\n",
    "\n",
    "    def __init__(self, alpha=1.0, smooth=1.0, reduction=\"mean\"):\n",
    "        super(MultiDSCLoss, self).__init__()\n",
    "        self.alpha = alpha\n",
    "        self.smooth = smooth\n",
    "        self.reduction = reduction\n",
    "\n",
    "    def forward(self, logits, targets):\n",
    "        probs = torch.softmax(logits, dim=1)\n",
    "        probs = torch.gather(probs, dim=1, index=targets.unsqueeze(1))\n",
    "\n",
    "        probs_with_factor = ((1 - probs) ** self.alpha) * probs\n",
    "        loss = 1 - (2 * probs_with_factor + self.smooth) / (probs_with_factor + 1 + self.smooth)\n",
    "\n",
    "        if self.reduction == \"mean\":\n",
    "            return loss.mean()\n",
    "        elif self.reduction == \"sum\":\n",
    "            return loss.sum()\n",
    "        elif self.reduction == \"none\" or self.reduction is None:\n",
    "            return loss\n",
    "        else:\n",
    "            raise NotImplementedError(f\"Reduction `{self.reduction}` is not supported.\")\n",
    "\n",
    "class CustomTrainer(Trainer):\n",
    "    def __init__(self, loss_type='focal_loss', *args, **kwargs):\n",
    "        super(CustomTrainer, self).__init__(*args, **kwargs)\n",
    "        self.loss_type = loss_type\n",
    "\n",
    "    def compute_loss(self, model, inputs, return_outputs=False):\n",
    "        labels = inputs.pop(\"labels\")\n",
    "        outputs = model(**inputs)\n",
    "        logits = outputs.logits\n",
    "        if self.loss_type == 'focal_loss':\n",
    "            loss_fct = MultiFocalLoss(num_class=3, alpha=0.8, gamma=2.0)\n",
    "        elif self.loss_type == 'dsc_loss':\n",
    "            loss_fct = MultiDSCLoss(alpha=1.0, smooth=1.0)\n",
    "        elif self.loss_type == 'ce_loss':\n",
    "            loss_fct = torch.nn.CrossEntropyLoss()\n",
    "        else:\n",
    "            loss_fct = torch.nn.CrossEntropyLoss()\n",
    "        loss = loss_fct(logits, labels)\n",
    "        return (loss, outputs) if return_outputs else loss"
   ]
  },
  {
   "cell_type": "code",
   "execution_count": 22,
   "id": "8a7502e7db63db83",
   "metadata": {
    "ExecuteTime": {
     "end_time": "2024-09-11T12:30:34.413624Z",
     "start_time": "2024-09-11T12:30:34.350896Z"
    }
   },
   "outputs": [],
   "source": [
    "from sklearn.metrics import accuracy_score, precision_recall_fscore_support\n",
    " \n",
    "def compute_metrics(pred):\n",
    "    labels = pred.label_ids\n",
    "    preds = pred.predictions.argmax(-1)\n",
    "    precision, recall, f1, _ = precision_recall_fscore_support(labels, preds, average='macro')\n",
    "    acc = accuracy_score(labels, preds)\n",
    "    return {\n",
    "        'Accuracy': acc,\n",
    "        'F1': f1,\n",
    "        'Precision': precision,\n",
    "        'Recall': recall\n",
    "    }\n",
    "\n",
    "# 创建Trainer\n",
    "trainer = CustomTrainer(\n",
    "    model=model,\n",
    "    args=training_args,\n",
    "    train_dataset=train_dataset,\n",
    "    eval_dataset=val_dataset,\n",
    "    # train_dataset=tokenized_datasets['train'],\n",
    "    # eval_dataset=tokenized_datasets['validation'],\n",
    "    tokenizer=tokenizer,\n",
    "    # data_collator=data_collator,\n",
    "    compute_metrics=compute_metrics,\n",
    "    loss_type='dsc_loss' # 自定义参数 focal_loss dsc_loss\n",
    ")"
   ]
  },
  {
   "cell_type": "code",
   "execution_count": 23,
   "id": "946b7340ecbce02d",
   "metadata": {
    "ExecuteTime": {
     "end_time": "2024-09-11T12:32:09.330570Z",
     "start_time": "2024-09-11T12:30:34.430169Z"
    }
   },
   "outputs": [],
   "source": [
    "results = trainer.train() \n",
    "# wandb.finish()"
   ]
  },
  {
   "cell_type": "code",
   "execution_count": 24,
   "id": "3577d188fa651196",
   "metadata": {
    "ExecuteTime": {
     "end_time": "2024-09-11T12:32:14.330421Z",
     "start_time": "2024-09-11T12:32:14.320172Z"
    }
   },
   "outputs": [],
   "source": [
    "# q=[trainer.evaluate(eval_dataset = data) for data in [train_dataset, val_dataset, test_dataset]]\n",
    "# pd.DataFrame(q, index=[\"train\",\"val\",\"test\"]).iloc[:,:5]"
   ]
  },
  {
   "cell_type": "markdown",
   "id": "22aa074b0b7d5a6d",
   "metadata": {},
   "source": [
    "## 评估模型:ROC曲线"
   ]
  },
  {
   "cell_type": "markdown",
   "id": "89d391fe2ca46bab",
   "metadata": {},
   "source": [
    "accuracy、precision(预测为1/真实为1)、recall(真实为1/预测为1)和F1-score\n",
    "\n",
    "F1-score = 2 * (precision * recall) / (precision + recall)\n",
    "\n",
    "Micro-F1: 将所有类别的TP、FP、FN分别累加，然后计算F1-score\n",
    "\n",
    "Macro-F1: 分别计算每个类别的F1-score，然后求平均"
   ]
  },
  {
   "cell_type": "code",
   "execution_count": 25,
   "id": "8f3498e1f1e99673",
   "metadata": {
    "ExecuteTime": {
     "end_time": "2024-09-11T12:32:17.097586Z",
     "start_time": "2024-09-11T12:32:14.442368Z"
    }
   },
   "outputs": [],
   "source": [
    "from sklearn.metrics import roc_curve, auc, RocCurveDisplay\n",
    "import numpy as np\n",
    "\n",
    "predictions = trainer.predict(test_dataset)\n",
    "probs = torch.softmax(torch.tensor(predictions.predictions), dim=-1).numpy()\n",
    "\n",
    "def plot_roc_curve(labels, probs):\n",
    "    # 计算ROC曲线\n",
    "    fpr = {}\n",
    "    tpr = {}\n",
    "    roc_auc = {}\n",
    "    \n",
    "    # 将标签转换为One-hot编码\n",
    "    test_labels_one_hot = np.eye(3)[labels]\n",
    "    for i in range(3):\n",
    "        fpr[i], tpr[i], _ = roc_curve(test_labels_one_hot[:, i], probs[:, i])\n",
    "        roc_auc[i] = auc(fpr[i], tpr[i])\n",
    "    \n",
    "    # 绘制ROC曲线\n",
    "    plt.figure()\n",
    "    colors = ['aqua', 'darkorange', 'cornflowerblue']\n",
    "    for i, color in zip(range(3), colors):\n",
    "        plt.plot(fpr[i], tpr[i], color=color, lw=2, label='ROC curve of class {0} (area = {1:0.2f})'\n",
    "                                                           ''.format(i, roc_auc[i]))\n",
    "        \n",
    "    plt.plot([0, 1], [0, 1], 'k--', lw=2)\n",
    "    plt.xlim([0.0, 1.0])\n",
    "    plt.ylim([0.0, 1.05])\n",
    "    plt.xlabel('False Positive Rate')\n",
    "    plt.ylabel('True Positive Rate')\n",
    "    plt.title('Receiver Operating Characteristic to multi-class')\n",
    "    plt.legend(loc=\"lower right\")\n",
    "    plt.show()\n",
    "\n",
    "plot_roc_curve(test_labels, probs)"
   ]
  },
  {
   "cell_type": "markdown",
   "id": "88ee062a3b681608",
   "metadata": {},
   "source": [
    "## PR曲线"
   ]
  },
  {
   "cell_type": "code",
   "execution_count": 26,
   "id": "430a6c80872cd10e",
   "metadata": {
    "ExecuteTime": {
     "end_time": "2024-09-11T12:32:23.073717Z",
     "start_time": "2024-09-11T12:32:22.971497Z"
    }
   },
   "outputs": [],
   "source": [
    "from sklearn.metrics import precision_recall_curve, average_precision_score\n",
    "\n",
    "def plot_pr_curve(labels, probs):\n",
    "    \n",
    "    precision = {}\n",
    "    recall = {}\n",
    "    average_precision = {}\n",
    "    test_labels_one_hot = np.eye(3)[labels]\n",
    "    \n",
    "    for i in range(3):\n",
    "        precision[i], recall[i], _ = precision_recall_curve(test_labels_one_hot[:, i], probs[:, i])\n",
    "        average_precision[i] = average_precision_score(test_labels_one_hot[:, i], probs[:, i])\n",
    "\n",
    "    plt.figure()\n",
    "    colors = ['aqua', 'darkorange', 'cornflowerblue']\n",
    "    for i, color in zip(range(3), colors):\n",
    "        plt.plot(recall[i], precision[i], color=color, lw=2, label='PR curve of class {0} (area = {1:0.2f})'\n",
    "                                                           ''.format(i, average_precision[i]))\n",
    "\n",
    "    plt.xlabel('Recall')\n",
    "    plt.ylabel('Precision')\n",
    "    plt.title('Precision-Recall curve to multi-class')\n",
    "    plt.legend(loc=\"best\")\n",
    "    plt.show()\n",
    "\n",
    "plot_pr_curve(test_labels, probs)"
   ]
  },
  {
   "cell_type": "markdown",
   "id": "6eeaf09062ac411e",
   "metadata": {},
   "source": [
    "## 混淆矩阵"
   ]
  },
  {
   "cell_type": "code",
   "execution_count": 27,
   "id": "f23a1be483510288",
   "metadata": {
    "ExecuteTime": {
     "end_time": "2024-09-11T12:32:23.214382Z",
     "start_time": "2024-09-11T12:32:23.115373Z"
    }
   },
   "outputs": [],
   "source": [
    "import seaborn as sns\n",
    "from sklearn.metrics import confusion_matrix, ConfusionMatrixDisplay\n",
    "\n",
    "def plot_confusion_matrix(y_true, y_pred, labels):\n",
    "    cm = confusion_matrix(y_true, y_pred)\n",
    "    fig, ax = plt.subplots(figsize=(8, 6))\n",
    "    disp = ConfusionMatrixDisplay(confusion_matrix=cm, display_labels=labels)\n",
    "    disp.plot(cmap='Blues', values_format='d', ax=ax)\n",
    "    plt.title('Confusion Matrix')\n",
    "    plt.show()\n",
    "    \n",
    "predicted_labels = np.argmax(predictions.predictions, axis=1)\n",
    "plot_confusion_matrix(test_labels, predicted_labels, list(label2id.keys()))"
   ]
  },
  {
   "cell_type": "markdown",
   "id": "9cdacfdd8cd75767",
   "metadata": {},
   "source": [
    "## 使用原生Pytorch训练"
   ]
  },
  {
   "cell_type": "code",
   "execution_count": 28,
   "id": "fedd444b5fc9bede",
   "metadata": {
    "ExecuteTime": {
     "end_time": "2024-09-11T12:32:23.245911Z",
     "start_time": "2024-09-11T12:32:23.231399Z"
    }
   },
   "outputs": [],
   "source": [
    "# https://zhuanlan.zhihu.com/p/662578119 还没写,感觉微调就可以达到效果\n",
    "# pytorch实现训练\n",
    "\n",
    "# from torch.utils.data import DataLoader\n",
    "# from transformers import AdamW\n",
    "# \n",
    "# train_loader = DataLoader(train_dataset, batch_size=16, shuffle=True)\n",
    "# test_loader = DataLoader(test_dataset, batch_size=16, shuffle=True)\n",
    "# val_loader = DataLoader(val_dataset, batch_size=16, shuffle=True)\n",
    "# \n",
    "# optimizer = AdamW(model.parameters(), lr=1e-3)"
   ]
  },
  {
   "cell_type": "markdown",
   "id": "beb38e4e47b21055",
   "metadata": {},
   "source": [
    "## 画出情感得分的时序数据图"
   ]
  },
  {
   "cell_type": "code",
   "execution_count": 29,
   "id": "07aae94f",
   "metadata": {
    "ExecuteTime": {
     "end_time": "2024-09-11T12:32:51.745105Z",
     "start_time": "2024-09-11T12:32:23.277955Z"
    }
   },
   "outputs": [],
   "source": [
    "from torch.utils.data import DataLoader, ConcatDataset\n",
    "\n",
    "best_model_dir = './finetuned_models/distilbert-base-uncased-finetuned-citation'\n",
    "trainer.save_model(best_model_dir)\n",
    "best_model = AutoModelForSequenceClassification.from_pretrained(best_model_dir).to(device)\n",
    "\n",
    "def predict_sentiment_score(model, dataset, batched=True, batch_size=32, weights=[-0.5, 1, -1], shuffle=False):\n",
    "    '''\n",
    "    预测句子的情感\n",
    "    '''\n",
    "    results = []\n",
    "    sentiment_scores = []\n",
    "    model.eval()  # 将模型设置为评估模式\n",
    "\n",
    "    dataloader = DataLoader(dataset, batch_size=batch_size, shuffle=shuffle)\n",
    "\n",
    "    if batched:\n",
    "        with torch.no_grad():  # 不计算梯度，以加速和节省内存\n",
    "            for batch in dataloader:\n",
    "                # 将批次数据移动到cuda\n",
    "                batch = {k: v.to(device) for k, v in batch.items()}\n",
    "                outputs = model(**batch)\n",
    "                logits = outputs.logits\n",
    "                probabilities = F.softmax(logits, dim=-1)\n",
    "                \n",
    "                logits_list = logits.tolist()\n",
    "                probabilities_list = probabilities.tolist()\n",
    "                results.extend(zip(logits_list, probabilities_list))\n",
    "    else:\n",
    "        with torch.no_grad():\n",
    "            inputs = tokenizer(dataset, return_tensors='pt', truncation=True, padding=True).to(device)\n",
    "            outputs = model(**inputs)\n",
    "            logits = outputs.logits\n",
    "            probabilities = F.softmax(logits, dim=-1)\n",
    "            logits_list = logits.tolist()\n",
    "            probabilities_list = probabilities.tolist()\n",
    "            results.extend(zip(logits_list, probabilities_list))\n",
    "\n",
    "    for _, softmax_probs in results:\n",
    "        softmax_probs_array = np.array(softmax_probs)\n",
    "        weights_array = np.array(weights)\n",
    "        score = np.sum(softmax_probs_array * weights_array)\n",
    "        score = max(min(score, 1), -1)\n",
    "        sentiment_scores.append(score)\n",
    "    return sentiment_scores\n",
    "\n",
    "weights=[-0.1, 1, -1]\n",
    "all_dataset = ConcatDataset([train_dataset, test_dataset, val_dataset])\n",
    "sentiment_scores = predict_sentiment_score(best_model, all_dataset, weights=weights, batched=True, batch_size=1, shuffle=True) # 句子维度不一样就把batch_size设为1\n"
   ]
  },
  {
   "cell_type": "code",
   "execution_count": 30,
   "id": "fdaa5f056a40914d",
   "metadata": {
    "ExecuteTime": {
     "end_time": "2024-09-11T12:32:52.118522Z",
     "start_time": "2024-09-11T12:32:51.777422Z"
    }
   },
   "outputs": [],
   "source": [
    "\n",
    "# # Pipeline的方法只能输出概率最大的标签和对应的标签值\n",
    "# # 因此他的值不可能小于0.3333，要输出连续的得分值在-1到1之间，需要自己利用logits或者概率值实现\n",
    "best_model_pipeline = pipeline(task='sentiment-analysis', model=best_model_dir, tokenizer=tokenizer, device='cuda')\n",
    "sst2_model_pipeline = pipeline(task='sentiment-analysis', model=SST2_FINETUNED_MODEL_PATH, tokenizer=tokenizer, device='cuda')\n",
    "\n",
    "# # Function to truncate sequences\n",
    "# def truncate_sequences(texts, max_length=512):\n",
    "#     return [tokenizer.decode(tokenizer.encode(text, max_length=max_length, truncation=True), skip_special_tokens=True) for text in texts]\n",
    "\n",
    "# # Apply truncation\n",
    "# mydata = truncate_sequences(df['Citation_Text'].tolist())\n",
    "# predictions = best_model_pipeline(mydata)\n",
    "# scores = [prediction['score'] for prediction in predictions]\n",
    "time_series_df = pd.DataFrame({'Sentiment Score': sentiment_scores}, index=df.index)\n",
    "\n",
    "plt.figure(figsize=(10, 6))\n",
    "plt.plot(time_series_df.index, time_series_df['Sentiment Score'], label='Sentiment Score')\n",
    "plt.xlabel('Index')\n",
    "plt.ylabel('Sentiment Score')\n",
    "plt.title('Sentiment Score Distributing')\n",
    "plt.ylim(-1, 1)\n",
    "# plt.axhline(y=0, color='r', linestyle='--')\n",
    "plt.legend()\n",
    "plt.show()"
   ]
  },
  {
   "cell_type": "markdown",
   "id": "b15094974da6da1d",
   "metadata": {},
   "source": [
    "## 对自己构造的数据集进行情感分析并画出时序图"
   ]
  },
  {
   "cell_type": "code",
   "execution_count": 31,
   "id": "c74587472145004e",
   "metadata": {
    "ExecuteTime": {
     "end_time": "2024-09-11T12:32:52.274997Z",
     "start_time": "2024-09-11T12:32:52.135372Z"
    }
   },
   "outputs": [],
   "source": [
    "new_df = pd.read_csv('./data/citation_manual_cleaned.csv')\n",
    "print(new_df.shape)\n",
    "\n",
    "texts = list(map(lambda x: x.lower(), new_df['texts']))\n",
    "year = list(map(lambda x: int(x), new_df['year']))\n",
    "\n",
    "scores = predict_sentiment_score(best_model, texts, weights=weights, batched=False) # 句子维度不一样就把batch_size设为1\n",
    "\n",
    "time_series_df = pd.DataFrame({'Year': year, 'Sentiment Score': scores})\n",
    "yearly_scores = time_series_df.groupby('Year')['Sentiment Score'].mean().reset_index()\n",
    "time_series_df.to_csv('./data/sentiment_scores.csv', index=False)\n",
    "\n",
    "plt.figure(figsize=(10, 6))\n",
    "plt.plot(yearly_scores['Year'], yearly_scores['Sentiment Score'], label='Average Sentiment Score')\n",
    "plt.xlabel('Year')\n",
    "plt.ylabel('Average Sentiment Score')\n",
    "plt.title('Average Sentiment Score Over Time')\n",
    "plt.ylim(-1, 1)\n",
    "plt.axhline(y=0, color='r', linestyle='--')\n",
    "plt.legend()\n",
    "plt.show()"
   ]
  },
  {
   "cell_type": "code",
   "execution_count": 32,
   "id": "59bd8b5f86d3325",
   "metadata": {
    "ExecuteTime": {
     "end_time": "2024-09-11T12:32:52.414305Z",
     "start_time": "2024-09-11T12:32:52.306656Z"
    }
   },
   "outputs": [],
   "source": [
    "plt.figure(figsize=(10, 6))\n",
    "bars = plt.bar(yearly_scores['Year'], yearly_scores['Sentiment Score'], bottom=0)\n",
    "\n",
    "# Color bars based on their extension direction\n",
    "for bar in bars:\n",
    "    if bar.get_height() > 0:\n",
    "        bar.set_color('green')  # Extend upwards\n",
    "    else:\n",
    "        bar.set_color('red')    # Extend downwards\n",
    "\n",
    "plt.xlabel('Year')\n",
    "plt.ylabel('Cumulative Sentiment Score')\n",
    "plt.title('Cumulative Sentiment Score by Year')\n",
    "plt.ylim(-1, 1)  # Ensure y-axis ranges from 0 to 1\n",
    "plt.axhline(y=0, color='black', linestyle='--')\n",
    "plt.show()"
   ]
  },
  {
   "cell_type": "markdown",
   "id": "46fdc2f147f99146",
   "metadata": {},
   "source": [
    "## 通过文献的Related Work进行正向的情感分析"
   ]
  },
  {
   "cell_type": "code",
   "execution_count": 33,
   "id": "aa03e64f24c1a781",
   "metadata": {
    "ExecuteTime": {
     "end_time": "2024-09-11T12:32:52.663473Z",
     "start_time": "2024-09-11T12:32:52.447569Z"
    }
   },
   "outputs": [],
   "source": [
    "related_works_df = pd.read_excel('./data/related_works.xlsx')\n",
    "paragraphs = list(map(lambda x: x.lower(), related_works_df['related work']))\n",
    "paragraphs"
   ]
  },
  {
   "cell_type": "code",
   "execution_count": 34,
   "id": "8a5fd5f5edbc70ec",
   "metadata": {
    "ExecuteTime": {
     "end_time": "2024-09-11T12:32:52.710587Z",
     "start_time": "2024-09-11T12:32:52.695160Z"
    }
   },
   "outputs": [],
   "source": [
    "import re\n",
    "\n",
    "all_sentences = []\n",
    "for idx, paragraph in enumerate(paragraphs):\n",
    "    \"\"\"\n",
    "    Splits text into sentences based on sentence-ending punctuation.\n",
    "    \"\"\"\n",
    "    sentences = re.split(r'(?<=[.!?]) +', paragraph) # 正则表达式分段\n",
    "    for i, sentence in enumerate(sentences):\n",
    "        all_sentences.append({'paragraph_index': idx, 'sentence_index': i, 'sentence': sentence})\n",
    "\n",
    "df_sentences = pd.DataFrame(all_sentences)\n",
    "df_sentences.head()"
   ]
  },
  {
   "cell_type": "code",
   "execution_count": 35,
   "id": "769820ebbb2a4495",
   "metadata": {
    "ExecuteTime": {
     "end_time": "2024-09-11T12:32:53.318420Z",
     "start_time": "2024-09-11T12:32:52.771232Z"
    }
   },
   "outputs": [],
   "source": [
    "paragraph_scores = {0: [], 1: [], 2: [], 3: []}\n",
    "\n",
    "for idx in range(4):\n",
    "    sentences = df_sentences[df_sentences['paragraph_index'] == idx]['sentence'].tolist()\n",
    "    scores = predict_sentiment_score(best_model, sentences, weights=weights, batched=False) # 句子维度不一样就把batch_size设为1\n",
    "    paragraph_scores[idx] = scores\n",
    "\n",
    "fig, axs = plt.subplots(2, 2, figsize=(12, 8))\n",
    "fig.suptitle('Sentiment Scores by Paragraph Index')\n",
    "\n",
    "# Color bars based on their extension direction\n",
    "for bar in bars:\n",
    "    if bar.get_height() > 0:\n",
    "        bar.set_color('green')  # Extend upwards\n",
    "    else:\n",
    "        bar.set_color('red')    # Extend downwards\n",
    "for idx, ax in enumerate(axs.flat):\n",
    "    # ax.plot(paragraph_scores[idx], label=f'Paragraph {idx}')\n",
    "    scores = np.array(paragraph_scores[idx])\n",
    "    bars = ax.bar(range(len(scores)), abs(scores), bottom=0.0)\n",
    "    ax.set_title(f'Paragraph {idx}')\n",
    "    ax.set_xlabel('Sentence Index')\n",
    "    ax.set_ylabel('Sentiment Score')\n",
    "    ax.set_ylim(-1, 1)  # Ensure y-axis ranges from 0 to 1\n",
    "    ax.axhline(y=0, color='black', linestyle='--',linewidth=0.5)\n",
    "    # ax.legend()\n",
    "\n",
    "plt.tight_layout()\n",
    "plt.show()"
   ]
  },
  {
   "cell_type": "code",
   "execution_count": 36,
   "id": "8c280536c0bbaafb",
   "metadata": {
    "ExecuteTime": {
     "end_time": "2024-09-11T12:32:53.381239Z",
     "start_time": "2024-09-11T12:32:53.350255Z"
    }
   },
   "outputs": [],
   "source": [
    "citation_df = pd.read_excel('./data/citation_manual_new.xlsx')\n",
    "print(citation_df.shape)\n",
    "citation_df.iloc[:, [1, 3, 5, 7]] = citation_df.iloc[:, [1, 3, 5, 7]].astype(int)\n",
    "citation_df.head()"
   ]
  },
  {
   "cell_type": "code",
   "execution_count": 37,
   "id": "6236d6e48735eae8",
   "metadata": {
    "ExecuteTime": {
     "end_time": "2024-09-11T12:32:54.007617Z",
     "start_time": "2024-09-11T12:32:53.412763Z"
    }
   },
   "outputs": [],
   "source": [
    "# 处理NaN值并进行情感分析\n",
    "def analyze_sentiment(text):\n",
    "    if pd.isna(text):\n",
    "        return 0  # 对于NaN文本，情感得分设置为0\n",
    "    scores = predict_sentiment_score(best_model, text, weights=weights, batched=False) # 句子维度不一样就把batch_size设为1\n",
    "    return scores[0]\n",
    "\n",
    "text_columns = citation_df.columns[::2]\n",
    "citation_df_with_scores = citation_df\n",
    "\n",
    "for i, col in enumerate(text_columns):\n",
    "    sentiment_scores = citation_df_with_scores[col].apply(analyze_sentiment)\n",
    "    new_col_name = f\"Sentiment_Score{i}\"\n",
    "    citation_df_with_scores.insert(2*i+i+1, new_col_name, sentiment_scores)\n",
    "\n",
    "citation_df_with_scores.to_csv('./data/citation_with_sentiment_scores.csv', index=False)\n",
    "citation_df_with_scores.head()"
   ]
  },
  {
   "cell_type": "code",
   "execution_count": 38,
   "id": "f6b4e85268e0d38",
   "metadata": {
    "ExecuteTime": {
     "end_time": "2024-09-11T12:32:54.167931Z",
     "start_time": "2024-09-11T12:32:54.041312Z"
    }
   },
   "outputs": [],
   "source": [
    "plt.figure(figsize=(10, 6))\n",
    "plt.plot(citation_df_with_scores['year'], citation_df_with_scores['Sentiment_Score0'], label='A simple and efficient search algorithm for block-matching motion estimation')\n",
    "plt.plot(citation_df_with_scores['year'], citation_df_with_scores['Sentiment_Score1'], label='M-PSK and M-QAM BER computation using signal-space conceptsn')\n",
    "plt.plot(citation_df_with_scores['year'], citation_df_with_scores['Sentiment_Score2'], label='Companding transform for reduction in peak-to-average power ratio of OFDM signals')\n",
    "plt.plot(citation_df_with_scores['year'], citation_df_with_scores['Sentiment_Score3'], label='A planar monopole antenna design with band-notched characteristic')\n",
    "plt.plot(citation_df_with_scores['year'], citation_df_with_scores['Sentiment_Score4'], label='Bit-interleaved time-frequency coded modulation for OFDM systems over time-varying channels')\n",
    "plt.xlabel('Year')\n",
    "plt.ylabel('Average Sentiment Score')\n",
    "plt.title('Average Sentiment Score Over Time')\n",
    "plt.ylim(-1, 1)\n",
    "plt.legend()\n",
    "plt.show()"
   ]
  }
 ],
 "metadata": {
  "kernelspec": {
   "display_name": "Python 3",
   "language": "python",
   "name": "python3"
  },
  "language_info": {
   "codemirror_mode": {
    "name": "ipython",
    "version": 3
   },
   "file_extension": ".py",
   "mimetype": "text/x-python",
   "name": "python",
   "nbconvert_exporter": "python",
   "pygments_lexer": "ipython3",
   "version": "3.10.14"
  }
 },
 "nbformat": 4,
 "nbformat_minor": 5
}
