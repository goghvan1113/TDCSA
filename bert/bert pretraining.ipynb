{
 "cells": [
  {
   "metadata": {
    "ExecuteTime": {
     "end_time": "2024-10-10T02:15:55.068298Z",
     "start_time": "2024-10-10T02:15:52.870754Z"
    }
   },
   "cell_type": "code",
   "source": [
    "import warnings\n",
    "import json\n",
    "import pandas as pd\n",
    "import torch\n",
    "import random\n",
    "import numpy as np\n",
    "from collections import Counter\n",
    "import matplotlib.pyplot as plt\n",
    "from sklearn.model_selection import train_test_split\n",
    "from transformers import AutoModelForMaskedLM, AutoTokenizer, DataCollatorForLanguageModeling, Trainer, TrainingArguments"
   ],
   "id": "c9e2aeac5e3947cb",
   "outputs": [],
   "execution_count": 1
  },
  {
   "metadata": {
    "ExecuteTime": {
     "end_time": "2024-10-10T02:15:55.100122Z",
     "start_time": "2024-10-10T02:15:55.075311Z"
    }
   },
   "cell_type": "code",
   "source": [
    "seed = 42\n",
    "random.seed(seed)\n",
    "np.random.seed(seed)\n",
    "torch.manual_seed(seed)\n",
    "if torch.cuda.is_available():\n",
    "    torch.cuda.manual_seed(seed)\n",
    "    torch.cuda.manual_seed_all(seed)\n",
    "torch.backends.cudnn.deterministic = True\n",
    "torch.backends.cudnn.benchmark     = False  # 启用Cudnn\n",
    "\n",
    "device = torch.device('cuda' if torch.cuda.is_available() else 'cpu')\n",
    "print(device)"
   ],
   "id": "e7ba560a54544ad6",
   "outputs": [
    {
     "name": "stdout",
     "output_type": "stream",
     "text": [
      "cuda\n"
     ]
    }
   ],
   "execution_count": 2
  },
  {
   "cell_type": "code",
   "id": "27184cd038fce9a9",
   "metadata": {
    "ExecuteTime": {
     "end_time": "2024-10-10T02:15:55.331586Z",
     "start_time": "2024-10-10T02:15:55.318272Z"
    }
   },
   "source": [
    "warnings.filterwarnings('ignore')\n",
    "\n",
    "# 创建自定义数据集类\n",
    "class CitationDataset(torch.utils.data.Dataset):\n",
    "    def __init__(self, texts, tokenizer, block_size=256):\n",
    "        self.examples = []\n",
    "        for text in texts:\n",
    "            tokenized_text = tokenizer(text, truncation=True, padding='max_length', max_length=block_size, return_tensors='pt')\n",
    "            self.examples.append(tokenized_text['input_ids'].squeeze())\n",
    "\n",
    "    def __len__(self):\n",
    "        return len(self.examples)\n",
    "\n",
    "    def __getitem__(self, i):\n",
    "        return self.examples[i]\n",
    "\n",
    "df_unlabeled = pd.read_csv('./data/citing_paper_contexts_unlabeled.csv')\n",
    "print(df_unlabeled.shape)\n",
    "texts = df_unlabeled['text'].tolist()\n",
    "df_unlabeled.head()"
   ],
   "outputs": [],
   "execution_count": 3
  },
  {
   "metadata": {
    "ExecuteTime": {
     "end_time": "2024-10-10T02:15:55.643463Z",
     "start_time": "2024-10-10T02:15:55.335637Z"
    }
   },
   "cell_type": "code",
   "source": [
    "base_model_name = 'roberta-llama3.1405B-twitter-sentiment'\n",
    "BASE_MODEL_PATH = f'./pretrain_models/{base_model_name}'\n",
    "model = AutoModelForMaskedLM.from_pretrained(BASE_MODEL_PATH)\n",
    "tokenizer = AutoTokenizer.from_pretrained(BASE_MODEL_PATH)\n",
    "tokenizer.save_pretrained(f'./citation_finetuned_models/{base_model_name}_itft')"
   ],
   "id": "3c8cd4de25576854",
   "outputs": [
    {
     "name": "stderr",
     "output_type": "stream",
     "text": [
      "Some weights of RobertaForMaskedLM were not initialized from the model checkpoint at ./pretrain_models/roberta-llama3.1405B-twitter-sentiment and are newly initialized: ['lm_head.bias', 'lm_head.decoder.bias', 'lm_head.dense.bias', 'lm_head.dense.weight', 'lm_head.layer_norm.bias', 'lm_head.layer_norm.weight']\n",
      "You should probably TRAIN this model on a down-stream task to be able to use it for predictions and inference.\n"
     ]
    },
    {
     "data": {
      "text/plain": [
       "('./citation_finetuned_models/roberta-llama3.1405B-twitter-sentiment_itft\\\\tokenizer_config.json',\n",
       " './citation_finetuned_models/roberta-llama3.1405B-twitter-sentiment_itft\\\\special_tokens_map.json',\n",
       " './citation_finetuned_models/roberta-llama3.1405B-twitter-sentiment_itft\\\\vocab.json',\n",
       " './citation_finetuned_models/roberta-llama3.1405B-twitter-sentiment_itft\\\\merges.txt',\n",
       " './citation_finetuned_models/roberta-llama3.1405B-twitter-sentiment_itft\\\\added_tokens.json',\n",
       " './citation_finetuned_models/roberta-llama3.1405B-twitter-sentiment_itft\\\\tokenizer.json')"
      ]
     },
     "execution_count": 4,
     "metadata": {},
     "output_type": "execute_result"
    }
   ],
   "execution_count": 4
  },
  {
   "metadata": {
    "collapsed": true,
    "ExecuteTime": {
     "end_time": "2024-10-10T02:15:55.910452Z",
     "start_time": "2024-10-10T02:15:55.660087Z"
    }
   },
   "cell_type": "code",
   "source": [
    "train_texts, valid_texts = train_test_split(texts, test_size=0.2, random_state=seed)\n",
    "train_dataset = CitationDataset(train_texts, tokenizer)\n",
    "valid_dataset = CitationDataset(valid_texts, tokenizer)\n",
    "\n",
    "data_collator = DataCollatorForLanguageModeling(tokenizer=tokenizer, mlm=True, mlm_probability=0.15)\n",
    "training_args = TrainingArguments(\n",
    "    output_dir=f'./results/itft_{base_model_name}',  # select model path for checkpoint\n",
    "    overwrite_output_dir=True,\n",
    "    num_train_epochs=5,  # 轮数不要设置的太大\n",
    "    per_device_train_batch_size=16,\n",
    "    per_device_eval_batch_size=16,\n",
    "    gradient_accumulation_steps=2,\n",
    "    learning_rate=5e-5,\n",
    "    warmup_steps=10000,\n",
    "    evaluation_strategy='steps',\n",
    "    save_total_limit=2,\n",
    "    eval_steps=250,\n",
    "    metric_for_best_model='eval_loss',\n",
    "    greater_is_better=False,\n",
    "    load_best_model_at_end=True,\n",
    "    prediction_loss_only=True,\n",
    "    report_to=\"none\")\n",
    "\n",
    "trainer = Trainer(\n",
    "    model=model,\n",
    "    args=training_args,\n",
    "    data_collator=data_collator,\n",
    "    train_dataset=train_dataset,\n",
    "    eval_dataset=valid_dataset)\n",
    "\n",
    "trainer.train()\n",
    "trainer.save_model(f'./citation_finetuned_models/{base_model_name}_itft')"
   ],
   "id": "initial_id",
   "outputs": [
    {
     "ename": "NameError",
     "evalue": "name 'texts' is not defined",
     "output_type": "error",
     "traceback": [
      "\u001B[1;31m---------------------------------------------------------------------------\u001B[0m",
      "\u001B[1;31mNameError\u001B[0m                                 Traceback (most recent call last)",
      "Cell \u001B[1;32mIn[5], line 1\u001B[0m\n\u001B[1;32m----> 1\u001B[0m train_texts, valid_texts \u001B[38;5;241m=\u001B[39m train_test_split(\u001B[43mtexts\u001B[49m, test_size\u001B[38;5;241m=\u001B[39m\u001B[38;5;241m0.2\u001B[39m, random_state\u001B[38;5;241m=\u001B[39mseed)\n\u001B[0;32m      2\u001B[0m train_dataset \u001B[38;5;241m=\u001B[39m CitationDataset(train_texts, tokenizer)\n\u001B[0;32m      3\u001B[0m valid_dataset \u001B[38;5;241m=\u001B[39m CitationDataset(valid_texts, tokenizer)\n",
      "\u001B[1;31mNameError\u001B[0m: name 'texts' is not defined"
     ]
    }
   ],
   "execution_count": 5
  }
 ],
 "metadata": {
  "kernelspec": {
   "display_name": "Python 3",
   "language": "python",
   "name": "python3"
  },
  "language_info": {
   "codemirror_mode": {
    "name": "ipython",
    "version": 2
   },
   "file_extension": ".py",
   "mimetype": "text/x-python",
   "name": "python",
   "nbconvert_exporter": "python",
   "pygments_lexer": "ipython2",
   "version": "2.7.6"
  }
 },
 "nbformat": 4,
 "nbformat_minor": 5
}
