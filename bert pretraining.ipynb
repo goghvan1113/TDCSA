{
 "cells": [
  {
   "metadata": {
    "ExecuteTime": {
     "end_time": "2024-09-14T09:23:33.416922Z",
     "start_time": "2024-09-14T09:23:33.411923Z"
    }
   },
   "cell_type": "code",
   "source": [
    "import warnings\n",
    "import pandas as pd\n",
    "import torch\n",
    "import random\n",
    "import numpy as np\n",
    "from sklearn.model_selection import train_test_split\n",
    "from transformers import AutoModelForMaskedLM, AutoTokenizer, DataCollatorForLanguageModeling, Trainer, TrainingArguments"
   ],
   "id": "c9e2aeac5e3947cb",
   "outputs": [],
   "execution_count": 2
  },
  {
   "metadata": {
    "ExecuteTime": {
     "end_time": "2024-09-14T09:23:33.479266Z",
     "start_time": "2024-09-14T09:23:33.453976Z"
    }
   },
   "cell_type": "code",
   "source": [
    "seed = 42\n",
    "random.seed(seed)\n",
    "np.random.seed(seed)\n",
    "torch.manual_seed(seed)\n",
    "if torch.cuda.is_available():\n",
    "    torch.cuda.manual_seed(seed)\n",
    "    torch.cuda.manual_seed_all(seed)\n",
    "torch.backends.cudnn.deterministic = True\n",
    "torch.backends.cudnn.benchmark     = False  # 启用Cudnn\n",
    "\n",
    "device = torch.device('cuda' if torch.cuda.is_available() else 'cpu')\n",
    "print(device)"
   ],
   "id": "e7ba560a54544ad6",
   "outputs": [
    {
     "name": "stdout",
     "output_type": "stream",
     "text": [
      "cuda\n"
     ]
    }
   ],
   "execution_count": 3
  },
  {
   "cell_type": "code",
   "id": "27184cd038fce9a9",
   "metadata": {
    "ExecuteTime": {
     "end_time": "2024-09-14T09:25:56.011182Z",
     "start_time": "2024-09-14T09:25:55.919308Z"
    }
   },
   "source": [
    "warnings.filterwarnings('ignore')\n",
    "\n",
    "# 创建自定义数据集类\n",
    "class CitationDataset(torch.utils.data.Dataset):\n",
    "    def __init__(self, texts, tokenizer, block_size=256):\n",
    "        self.examples = []\n",
    "        for text in texts:\n",
    "            tokenized_text = tokenizer(text, truncation=True, padding='max_length', max_length=block_size, return_tensors='pt')\n",
    "            self.examples.append(tokenized_text['input_ids'].squeeze())\n",
    "\n",
    "    def __len__(self):\n",
    "        return len(self.examples)\n",
    "\n",
    "    def __getitem__(self, i):\n",
    "        return self.examples[i]\n",
    "\n",
    "df_unlabeled = pd.read_csv('./data/citing_paper_contexts_unlabeled.csv')\n",
    "print(df_unlabeled.shape)\n",
    "df_unlabeled.head()"
   ],
   "outputs": [
    {
     "name": "stdout",
     "output_type": "stream",
     "text": [
      "(42091, 3)\n"
     ]
    },
    {
     "data": {
      "text/plain": [
       "                                                text  label_score  label\n",
       "0  Instead of mixing the representations, G-Mixup...          NaN    NaN\n",
       "1  Graph Data Augmentation DropEdge [131] Randoml...          NaN    NaN\n",
       "2  DropEdge [131] Randomly remove edges Perturbat...          NaN    NaN\n",
       "3  For G-Mixup, we use the same hyper-parameters ...          NaN    NaN\n",
       "4  Few works have proposed methods to adapt mixup...          NaN    NaN"
      ],
      "text/html": [
       "<div>\n",
       "<style scoped>\n",
       "    .dataframe tbody tr th:only-of-type {\n",
       "        vertical-align: middle;\n",
       "    }\n",
       "\n",
       "    .dataframe tbody tr th {\n",
       "        vertical-align: top;\n",
       "    }\n",
       "\n",
       "    .dataframe thead th {\n",
       "        text-align: right;\n",
       "    }\n",
       "</style>\n",
       "<table border=\"1\" class=\"dataframe\">\n",
       "  <thead>\n",
       "    <tr style=\"text-align: right;\">\n",
       "      <th></th>\n",
       "      <th>text</th>\n",
       "      <th>label_score</th>\n",
       "      <th>label</th>\n",
       "    </tr>\n",
       "  </thead>\n",
       "  <tbody>\n",
       "    <tr>\n",
       "      <th>0</th>\n",
       "      <td>Instead of mixing the representations, G-Mixup...</td>\n",
       "      <td>NaN</td>\n",
       "      <td>NaN</td>\n",
       "    </tr>\n",
       "    <tr>\n",
       "      <th>1</th>\n",
       "      <td>Graph Data Augmentation DropEdge [131] Randoml...</td>\n",
       "      <td>NaN</td>\n",
       "      <td>NaN</td>\n",
       "    </tr>\n",
       "    <tr>\n",
       "      <th>2</th>\n",
       "      <td>DropEdge [131] Randomly remove edges Perturbat...</td>\n",
       "      <td>NaN</td>\n",
       "      <td>NaN</td>\n",
       "    </tr>\n",
       "    <tr>\n",
       "      <th>3</th>\n",
       "      <td>For G-Mixup, we use the same hyper-parameters ...</td>\n",
       "      <td>NaN</td>\n",
       "      <td>NaN</td>\n",
       "    </tr>\n",
       "    <tr>\n",
       "      <th>4</th>\n",
       "      <td>Few works have proposed methods to adapt mixup...</td>\n",
       "      <td>NaN</td>\n",
       "      <td>NaN</td>\n",
       "    </tr>\n",
       "  </tbody>\n",
       "</table>\n",
       "</div>"
      ]
     },
     "execution_count": 7,
     "metadata": {},
     "output_type": "execute_result"
    }
   ],
   "execution_count": 7
  },
  {
   "metadata": {
    "ExecuteTime": {
     "end_time": "2024-09-14T10:18:57.004587Z",
     "start_time": "2024-09-14T10:18:56.666533Z"
    }
   },
   "cell_type": "code",
   "source": [
    "base_model_name = 'roberta-llama3.1405B-twitter-sentiment'\n",
    "BASE_MODEL_PATH = f'./pretrain_models/{base_model_name}'\n",
    "model = AutoModelForMaskedLM.from_pretrained(BASE_MODEL_PATH)\n",
    "tokenizer = AutoTokenizer.from_pretrained(BASE_MODEL_PATH)\n",
    "tokenizer.save_pretrained(f'./citation_finetuned_models/{base_model_name}_itft')"
   ],
   "id": "3c8cd4de25576854",
   "outputs": [
    {
     "name": "stderr",
     "output_type": "stream",
     "text": [
      "Some weights of RobertaForMaskedLM were not initialized from the model checkpoint at ./pretrain_models/roberta-llama3.1405B-twitter-sentiment and are newly initialized: ['lm_head.bias', 'lm_head.decoder.bias', 'lm_head.dense.bias', 'lm_head.dense.weight', 'lm_head.layer_norm.bias', 'lm_head.layer_norm.weight']\n",
      "You should probably TRAIN this model on a down-stream task to be able to use it for predictions and inference.\n"
     ]
    },
    {
     "data": {
      "text/plain": [
       "('./citation_finetuned_models/roberta-llama3.1405B-twitter-sentiment_itft\\\\tokenizer_config.json',\n",
       " './citation_finetuned_models/roberta-llama3.1405B-twitter-sentiment_itft\\\\special_tokens_map.json',\n",
       " './citation_finetuned_models/roberta-llama3.1405B-twitter-sentiment_itft\\\\vocab.json',\n",
       " './citation_finetuned_models/roberta-llama3.1405B-twitter-sentiment_itft\\\\merges.txt',\n",
       " './citation_finetuned_models/roberta-llama3.1405B-twitter-sentiment_itft\\\\added_tokens.json',\n",
       " './citation_finetuned_models/roberta-llama3.1405B-twitter-sentiment_itft\\\\tokenizer.json')"
      ]
     },
     "execution_count": 10,
     "metadata": {},
     "output_type": "execute_result"
    }
   ],
   "execution_count": 10
  },
  {
   "metadata": {
    "collapsed": true,
    "ExecuteTime": {
     "end_time": "2024-09-14T10:03:22.512304Z",
     "start_time": "2024-09-14T09:26:54.289516Z"
    }
   },
   "cell_type": "code",
   "outputs": [
    {
     "name": "stderr",
     "output_type": "stream",
     "text": [
      "Some weights of RobertaForMaskedLM were not initialized from the model checkpoint at ./pretrain_models/roberta-llama3.1405B-twitter-sentiment and are newly initialized: ['lm_head.bias', 'lm_head.decoder.bias', 'lm_head.dense.bias', 'lm_head.dense.weight', 'lm_head.layer_norm.bias', 'lm_head.layer_norm.weight']\n",
      "You should probably TRAIN this model on a down-stream task to be able to use it for predictions and inference.\n",
      "We strongly recommend passing in an `attention_mask` since your input_ids may be padded. See https://huggingface.co/docs/transformers/troubleshooting#incorrect-output-when-padding-tokens-arent-masked.\n"
     ]
    },
    {
     "data": {
      "text/plain": [
       "<IPython.core.display.HTML object>"
      ],
      "text/html": [
       "\n",
       "    <div>\n",
       "      \n",
       "      <progress value='5260' max='5260' style='width:300px; height:20px; vertical-align: middle;'></progress>\n",
       "      [5260/5260 36:19, Epoch 4/5]\n",
       "    </div>\n",
       "    <table border=\"1\" class=\"dataframe\">\n",
       "  <thead>\n",
       " <tr style=\"text-align: left;\">\n",
       "      <th>Step</th>\n",
       "      <th>Training Loss</th>\n",
       "      <th>Validation Loss</th>\n",
       "    </tr>\n",
       "  </thead>\n",
       "  <tbody>\n",
       "    <tr>\n",
       "      <td>250</td>\n",
       "      <td>No log</td>\n",
       "      <td>9.012589</td>\n",
       "    </tr>\n",
       "    <tr>\n",
       "      <td>500</td>\n",
       "      <td>10.755800</td>\n",
       "      <td>7.550422</td>\n",
       "    </tr>\n",
       "    <tr>\n",
       "      <td>750</td>\n",
       "      <td>10.755800</td>\n",
       "      <td>5.906071</td>\n",
       "    </tr>\n",
       "    <tr>\n",
       "      <td>1000</td>\n",
       "      <td>6.227600</td>\n",
       "      <td>4.901941</td>\n",
       "    </tr>\n",
       "    <tr>\n",
       "      <td>1250</td>\n",
       "      <td>6.227600</td>\n",
       "      <td>4.351432</td>\n",
       "    </tr>\n",
       "    <tr>\n",
       "      <td>1500</td>\n",
       "      <td>4.649500</td>\n",
       "      <td>3.913796</td>\n",
       "    </tr>\n",
       "    <tr>\n",
       "      <td>1750</td>\n",
       "      <td>4.649500</td>\n",
       "      <td>3.615478</td>\n",
       "    </tr>\n",
       "    <tr>\n",
       "      <td>2000</td>\n",
       "      <td>3.878600</td>\n",
       "      <td>3.334604</td>\n",
       "    </tr>\n",
       "    <tr>\n",
       "      <td>2250</td>\n",
       "      <td>3.878600</td>\n",
       "      <td>3.128730</td>\n",
       "    </tr>\n",
       "    <tr>\n",
       "      <td>2500</td>\n",
       "      <td>3.331900</td>\n",
       "      <td>2.929244</td>\n",
       "    </tr>\n",
       "    <tr>\n",
       "      <td>2750</td>\n",
       "      <td>3.331900</td>\n",
       "      <td>2.744669</td>\n",
       "    </tr>\n",
       "    <tr>\n",
       "      <td>3000</td>\n",
       "      <td>2.967400</td>\n",
       "      <td>2.630007</td>\n",
       "    </tr>\n",
       "    <tr>\n",
       "      <td>3250</td>\n",
       "      <td>2.967400</td>\n",
       "      <td>2.490700</td>\n",
       "    </tr>\n",
       "    <tr>\n",
       "      <td>3500</td>\n",
       "      <td>2.679300</td>\n",
       "      <td>2.403232</td>\n",
       "    </tr>\n",
       "    <tr>\n",
       "      <td>3750</td>\n",
       "      <td>2.679300</td>\n",
       "      <td>2.318581</td>\n",
       "    </tr>\n",
       "    <tr>\n",
       "      <td>4000</td>\n",
       "      <td>2.489100</td>\n",
       "      <td>2.245061</td>\n",
       "    </tr>\n",
       "    <tr>\n",
       "      <td>4250</td>\n",
       "      <td>2.489100</td>\n",
       "      <td>2.206365</td>\n",
       "    </tr>\n",
       "    <tr>\n",
       "      <td>4500</td>\n",
       "      <td>2.350400</td>\n",
       "      <td>2.111583</td>\n",
       "    </tr>\n",
       "    <tr>\n",
       "      <td>4750</td>\n",
       "      <td>2.350400</td>\n",
       "      <td>2.088832</td>\n",
       "    </tr>\n",
       "    <tr>\n",
       "      <td>5000</td>\n",
       "      <td>2.227100</td>\n",
       "      <td>2.031482</td>\n",
       "    </tr>\n",
       "    <tr>\n",
       "      <td>5250</td>\n",
       "      <td>2.227100</td>\n",
       "      <td>2.010567</td>\n",
       "    </tr>\n",
       "  </tbody>\n",
       "</table><p>"
      ]
     },
     "metadata": {},
     "output_type": "display_data"
    },
    {
     "name": "stderr",
     "output_type": "stream",
     "text": [
      "There were missing keys in the checkpoint model loaded: ['lm_head.decoder.weight', 'lm_head.decoder.bias'].\n"
     ]
    }
   ],
   "execution_count": 9,
   "source": [
    "train_texts, valid_texts = train_test_split(df_unlabeled['text'].tolist(),test_size=0.2, random_state=seed)\n",
    "train_dataset = CitationDataset(train_texts, tokenizer)\n",
    "valid_dataset = CitationDataset(valid_texts, tokenizer)\n",
    "\n",
    "data_collator = DataCollatorForLanguageModeling(tokenizer=tokenizer, mlm=True, mlm_probability=0.15)\n",
    "training_args = TrainingArguments(\n",
    "    output_dir=f'./results/itft_{base_model_name}',  # select model path for checkpoint\n",
    "    overwrite_output_dir=True,\n",
    "    num_train_epochs=5,  # 轮数不要设置的太大\n",
    "    per_device_train_batch_size=16,\n",
    "    per_device_eval_batch_size=16,\n",
    "    gradient_accumulation_steps=2,\n",
    "    learning_rate=5e-5,\n",
    "    warmup_steps=10000,\n",
    "    evaluation_strategy='steps',\n",
    "    save_total_limit=2,\n",
    "    eval_steps=250,\n",
    "    metric_for_best_model='eval_loss',\n",
    "    greater_is_better=False,\n",
    "    load_best_model_at_end=True,\n",
    "    prediction_loss_only=True,\n",
    "    report_to=\"none\")\n",
    "\n",
    "trainer = Trainer(\n",
    "    model=model,\n",
    "    args=training_args,\n",
    "    data_collator=data_collator,\n",
    "    train_dataset=train_dataset,\n",
    "    eval_dataset=valid_dataset)\n",
    "\n",
    "trainer.train()\n",
    "trainer.save_model(f'./citation_finetuned_models/{base_model_name}_itft')"
   ],
   "id": "initial_id"
  }
 ],
 "metadata": {
  "kernelspec": {
   "display_name": "Python 3",
   "language": "python",
   "name": "python3"
  },
  "language_info": {
   "codemirror_mode": {
    "name": "ipython",
    "version": 2
   },
   "file_extension": ".py",
   "mimetype": "text/x-python",
   "name": "python",
   "nbconvert_exporter": "python",
   "pygments_lexer": "ipython2",
   "version": "2.7.6"
  }
 },
 "nbformat": 4,
 "nbformat_minor": 5
}
