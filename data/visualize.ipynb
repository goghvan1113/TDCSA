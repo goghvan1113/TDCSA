{
 "cells": [
  {
   "cell_type": "code",
   "execution_count": null,
   "id": "be9422c355946ecc",
   "metadata": {
    "ExecuteTime": {
     "end_time": "2024-11-03T07:23:00.369519Z",
     "start_time": "2024-11-03T07:22:59.249953Z"
    }
   },
   "outputs": [],
   "source": [
    "import warnings\n",
    "import json\n",
    "import pandas as pd\n",
    "import torch\n",
    "import random\n",
    "import numpy as np\n",
    "from collections import Counter\n",
    "import matplotlib.pyplot as plt\n",
    "from sklearn.model_selection import train_test_split"
   ]
  },
  {
   "cell_type": "markdown",
   "id": "db1d2ef5d66da587",
   "metadata": {},
   "source": [
    "## citation_sentiment_corpus.csv"
   ]
  },
  {
   "cell_type": "code",
   "execution_count": null,
   "id": "49cc4f1685a564ca",
   "metadata": {
    "ExecuteTime": {
     "end_time": "2024-10-31T12:36:20.131416Z",
     "start_time": "2024-10-31T12:36:20.044571Z"
    }
   },
   "outputs": [],
   "source": [
    "raw_df = pd.read_csv('citation_sentiment_corpus.csv')\n",
    "fig, ax = plt.subplots(figsize=(8,6))\n",
    "raw_df.Sentiment.value_counts().plot(kind = 'bar',ax=ax)\n",
    "for i, count in enumerate(raw_df.Sentiment.value_counts()):\n",
    "    ax.text(i, count, str(count), ha='center', va='bottom')\n",
    "plt.xlabel('Citation Sentiments')\n",
    "plt.ylabel('Values count')\n",
    "plt.show()\n",
    "\n",
    "label2id = {'n': 2, 'p': 1, 'o': 0}\n",
    "raw_df['Sentiment'] = raw_df['Sentiment'].map(label2id)\n",
    "# pd.DataFrame({'Sentiment':raw_df['Sentiment'], 'Citation_Text':raw_df['Citation_Text']}).to_csv('raw_corpus.csv', index=False)"
   ]
  },
  {
   "cell_type": "markdown",
   "id": "4c33c804604eb69e",
   "metadata": {},
   "source": [
    "## controllable-citation-generation"
   ]
  },
  {
   "cell_type": "code",
   "execution_count": null,
   "id": "initial_id",
   "metadata": {
    "ExecuteTime": {
     "end_time": "2024-10-31T12:36:22.455176Z",
     "start_time": "2024-10-31T12:36:20.148270Z"
    },
    "collapsed": true
   },
   "outputs": [],
   "source": [
    "label2id = {\"background\": 0, \"method\": 1, \"result\": 2}\n",
    "id2label = {v: k for k, v in label2id.items()}\n",
    "\n",
    "def read_jsonl(file_path):\n",
    "    citations = []\n",
    "    intents = []\n",
    "    with open(file_path, 'r', encoding='utf-8') as f:\n",
    "        for line in f:\n",
    "            entry = json.loads(line.strip())\n",
    "            citation = entry.get('citation')\n",
    "            citation_intent = entry.get('citation_intent')\n",
    "            if citation and citation_intent:\n",
    "                citation_intent_id = label2id.get(citation_intent, -1)  # Use -1 for unknown labels\n",
    "                citations.append(citation)\n",
    "                intents.append(citation_intent_id)\n",
    "    return citations, intents\n",
    "\n",
    "train_citations, train_intents = read_jsonl('controllable-citation-generation/train.jsonl')\n",
    "test_citations, test_intents = read_jsonl('controllable-citation-generation/test.jsonl')\n",
    "val_citations, val_intents = read_jsonl('controllable-citation-generation/val.jsonl')\n",
    "data = train_intents + test_intents + val_intents\n",
    "\n",
    "label_counts = Counter(data)\n",
    "labels, counts = zip(*label_counts.items())\n",
    "labels = [id2label[label] for label in labels]\n",
    "\n",
    "plt.bar(labels, counts)\n",
    "plt.xlabel('Labels')\n",
    "plt.ylabel('Count')\n",
    "plt.title('Label Distribution')\n",
    "plt.show()\n",
    "\n",
    "print(\"Label counts:\", dict(zip(labels, counts)))"
   ]
  },
  {
   "cell_type": "markdown",
   "id": "2f510f7bdf6025e6",
   "metadata": {},
   "source": [
    "## citation_sentiment_corpus_balanced.csv"
   ]
  },
  {
   "cell_type": "code",
   "execution_count": null,
   "id": "64fcf911fbf24fa8",
   "metadata": {
    "ExecuteTime": {
     "end_time": "2024-10-31T12:36:22.502343Z",
     "start_time": "2024-10-31T12:36:22.478191Z"
    }
   },
   "outputs": [],
   "source": [
    "DATA_PATH = 'citation_sentiment_corpus_balanced.csv'\n",
    "df = pd.read_csv(DATA_PATH)\n",
    "print(df.shape)\n",
    "df.head()"
   ]
  },
  {
   "cell_type": "code",
   "execution_count": null,
   "id": "d8edf2f006e25ca2",
   "metadata": {
    "ExecuteTime": {
     "end_time": "2024-10-31T12:36:22.612976Z",
     "start_time": "2024-10-31T12:36:22.550646Z"
    }
   },
   "outputs": [],
   "source": [
    "fig, ax = plt.subplots(figsize=(8,6))\n",
    "df.Sentiment.value_counts().plot(kind = 'bar',ax=ax)\n",
    "for i, count in enumerate(df.Sentiment.value_counts()):\n",
    "    ax.text(i, count, str(count), ha='center', va='bottom')\n",
    "plt.xlabel('Citation Sentiments')\n",
    "plt.ylabel('Values count')\n",
    "plt.show()"
   ]
  },
  {
   "cell_type": "markdown",
   "id": "77191acafa4bf0e3",
   "metadata": {},
   "source": [
    "## corpus.txt"
   ]
  },
  {
   "cell_type": "code",
   "execution_count": null,
   "id": "1c1dcccb5c4ad425",
   "metadata": {
    "ExecuteTime": {
     "end_time": "2024-10-31T12:36:22.722345Z",
     "start_time": "2024-10-31T12:36:22.644029Z"
    }
   },
   "outputs": [],
   "source": [
    "import matplotlib.pyplot as plt\n",
    "from collections import Counter\n",
    "\n",
    "def count_labels(filepath):\n",
    "    label_counter = Counter()\n",
    "    with open(filepath, \"r\", encoding=\"utf8\") as f:\n",
    "        file = f.read().split(\"\\n\")\n",
    "        file = [i.split(\"\\t\") for i in file]\n",
    "        for i in file:\n",
    "            if len(i) == 2:\n",
    "                label = int(i[0])\n",
    "                # Map labels: 2 -> Positive, 1 -> Neutral, 0 -> Negative\n",
    "                if label == 2:\n",
    "                    label = 1\n",
    "                elif label == 1:\n",
    "                    label = 0\n",
    "                elif label == 0:\n",
    "                    label = 2\n",
    "                label_counter[label] += 1\n",
    "    return label_counter\n",
    "\n",
    "# Example usage\n",
    "filepath = 'corpus.txt'\n",
    "label_counts = count_labels(filepath)\n",
    "\n",
    "# Plotting the bar chart\n",
    "labels, counts = zip(*label_counts.items())\n",
    "label_names = ['Neutral', 'Positive', 'Negative']\n",
    "label_names = [label_names[label] for label in labels]\n",
    "\n",
    "plt.bar(label_names, counts)\n",
    "plt.xlabel('Labels')\n",
    "plt.ylabel('Count')\n",
    "plt.title('Label Distribution in corpus.txt')\n",
    "\n",
    "# Annotate the counts on top of the bars\n",
    "for i, count in enumerate(counts):\n",
    "    plt.text(i, count, str(count), ha='center', va='bottom')\n",
    "\n",
    "plt.show()"
   ]
  },
  {
   "cell_type": "code",
   "execution_count": null,
   "id": "dc556b0360370b",
   "metadata": {
    "ExecuteTime": {
     "end_time": "2024-10-31T12:36:22.738065Z",
     "start_time": "2024-10-31T12:36:22.730050Z"
    }
   },
   "outputs": [],
   "source": [
    "import pandas as pd\n",
    "\n",
    "def txt_to_csv(filepath, output_csv):\n",
    "    sentences, labels = [], []\n",
    "    with open(filepath, \"r\", encoding=\"utf8\") as f:\n",
    "        file = f.read().split(\"\\n\")\n",
    "        file = [i.split(\"\\t\") for i in file]\n",
    "        for i in file:\n",
    "            if len(i) == 2:\n",
    "                sentence = i[1]\n",
    "                label = int(i[0])\n",
    "                # Map labels: 2 -> Positive, 1 -> Neutral, 0 -> Negative\n",
    "                if label == 2:\n",
    "                    label = 1\n",
    "                elif label == 1:\n",
    "                    label = 0\n",
    "                elif label == 0:\n",
    "                    label = 2\n",
    "                sentences.append(sentence)\n",
    "                labels.append(label)\n",
    "    \n",
    "    # Create a DataFrame and save to CSV\n",
    "    df = pd.DataFrame({'Sentiment': labels, 'Citation_Text': sentences})\n",
    "    df.to_csv(output_csv, index=False)\n",
    "\n",
    "# Example usage\n",
    "# txt_to_csv('corpus.txt', 'corpus.csv')\n",
    "# df = pd.read_csv('corpus.csv')\n",
    "# df.head(20)"
   ]
  },
  {
   "cell_type": "markdown",
   "id": "716a64b7a8853b1c",
   "metadata": {},
   "source": [
    "## train_data_aug1.csv"
   ]
  },
  {
   "cell_type": "code",
   "execution_count": null,
   "id": "b5613dfc9a2905cf",
   "metadata": {
    "ExecuteTime": {
     "end_time": "2024-10-31T12:36:22.768619Z",
     "start_time": "2024-10-31T12:36:22.754100Z"
    }
   },
   "outputs": [],
   "source": [
    "# df_aug = pd.read_csv('train_data_aug1.csv')\n",
    "# df_aug.head(20)"
   ]
  },
  {
   "cell_type": "markdown",
   "id": "4215919b8fb48fe1",
   "metadata": {},
   "source": [
    "## intent_classification_results.csv"
   ]
  },
  {
   "cell_type": "code",
   "execution_count": null,
   "id": "3f82300f1666b4ac",
   "metadata": {
    "ExecuteTime": {
     "end_time": "2024-10-31T12:36:22.815235Z",
     "start_time": "2024-10-31T12:36:22.785662Z"
    }
   },
   "outputs": [],
   "source": [
    "df_intent = pd.read_csv('../output/intent_results/corpus_with_intent.csv')\n",
    "df_intent"
   ]
  },
  {
   "cell_type": "code",
   "execution_count": null,
   "id": "444304d8e2781436",
   "metadata": {
    "ExecuteTime": {
     "end_time": "2024-10-31T12:36:23.128437Z",
     "start_time": "2024-10-31T12:36:22.959600Z"
    }
   },
   "outputs": [],
   "source": [
    "from collections import Counter\n",
    "import matplotlib.pyplot as plt\n",
    "\n",
    "# Count the occurrences of each intent label\n",
    "intent_counts = df_intent['intent'].value_counts()\n",
    "\n",
    "# Plot the distribution of intent labels\n",
    "plt.figure(figsize=(10, 6))\n",
    "intent_counts.plot(kind='bar')\n",
    "plt.xlabel('Intent Labels')\n",
    "plt.ylabel('Count')\n",
    "plt.title('Distribution of Intent Labels')\n",
    "plt.show()\n",
    "\n",
    "# Plot the distribution of confidence scores\n",
    "plt.figure(figsize=(10, 6))\n",
    "df_intent['confidence'].plot(kind='hist', bins=20, edgecolor='black')\n",
    "plt.xlabel('Confidence Score')\n",
    "plt.ylabel('Frequency')\n",
    "plt.title('Distribution of Confidence Scores')\n",
    "plt.show()"
   ]
  },
  {
   "cell_type": "code",
   "execution_count": null,
   "id": "58b5af5611f12fb4",
   "metadata": {
    "ExecuteTime": {
     "end_time": "2024-10-31T12:36:23.175507Z",
     "start_time": "2024-10-31T12:36:23.160484Z"
    }
   },
   "outputs": [],
   "source": [
    "# Display rows with the label 'unknown'\n",
    "unknown_samples = df_intent[df_intent['intent'] == 'unknown']\n",
    "print(\"Samples with 'unknown' intent:\")\n",
    "unknown_samples"
   ]
  },
  {
   "cell_type": "code",
   "execution_count": null,
   "id": "1db20241517aba6e",
   "metadata": {
    "ExecuteTime": {
     "end_time": "2024-10-31T12:36:23.223156Z",
     "start_time": "2024-10-31T12:36:23.207637Z"
    }
   },
   "outputs": [],
   "source": [
    "# Display rows with confidence score below 0.8\n",
    "low_confidence_samples = df_intent[df_intent['confidence'] <= 0.6]\n",
    "print(\"\\nSamples with confidence score below 0.8:\")\n",
    "low_confidence_samples"
   ]
  },
  {
   "cell_type": "code",
   "execution_count": null,
   "id": "e1fe08dfb213bb45",
   "metadata": {
    "ExecuteTime": {
     "end_time": "2024-10-31T12:36:23.300597Z",
     "start_time": "2024-10-31T12:36:23.274522Z"
    }
   },
   "outputs": [],
   "source": [
    "from torch.utils.data import DataLoader\n",
    "from scipy.stats import chi2_contingency\n",
    "from typing import Tuple, Dict\n",
    "from sklearn.metrics import mutual_info_score, normalized_mutual_info_score\n",
    "import seaborn as sns\n",
    "\n",
    "class LabelCorrelationAnalyzer:\n",
    "    def __init__(self, sentiment_labels: np.ndarray, intent_labels: np.ndarray, sentiment_labelmap: dict, intent_labelmap: dict):\n",
    "        \"\"\"\n",
    "        Initialize the analyzer\n",
    "\n",
    "        Args:\n",
    "            sentiment_labels: Array of sentiment labels\n",
    "            intent_labels: Array of intent labels\n",
    "            sentiment_labelmap: Dictionary mapping sentiment labels to categories\n",
    "            intent_labelmap: Dictionary mapping intent labels to categories\n",
    "        \"\"\"\n",
    "        self.sentiment_labels = sentiment_labels\n",
    "        self.intent_labels = intent_labels\n",
    "        self.sentiment_labelmap = sentiment_labelmap\n",
    "        self.intent_labelmap = intent_labelmap\n",
    "        self.sentiment_classes = np.unique(sentiment_labels)\n",
    "        self.intent_classes = np.unique(intent_labels)\n",
    "\n",
    "    def get_contingency_table(self) -> pd.DataFrame:\n",
    "        \"\"\"Compute the contingency table\"\"\"\n",
    "        contingency = pd.crosstab(\n",
    "            self.sentiment_labels,\n",
    "            self.intent_labels,\n",
    "            normalize='all'  # Compute joint probability distribution\n",
    "        )\n",
    "        return contingency\n",
    "\n",
    "    def chi_square_test(self) -> Tuple[float, float]:\n",
    "        \"\"\"Perform chi-square independence test\"\"\"\n",
    "        contingency = pd.crosstab(self.sentiment_labels, self.intent_labels)\n",
    "        chi2, p_value = chi2_contingency(contingency)[:2]\n",
    "        return chi2, p_value\n",
    "\n",
    "    def mutual_information(self) -> Tuple[float, float]:\n",
    "        \"\"\"Compute mutual information and normalized mutual information\"\"\"\n",
    "        mi = mutual_info_score(self.sentiment_labels, self.intent_labels)\n",
    "        nmi = normalized_mutual_info_score(\n",
    "            self.sentiment_labels,\n",
    "            self.intent_labels,\n",
    "            average_method='arithmetic'\n",
    "        )\n",
    "        return mi, nmi\n",
    "\n",
    "    def conditional_probabilities(self) -> Tuple[pd.DataFrame, pd.DataFrame]:\n",
    "        \"\"\"Compute conditional probabilities\"\"\"\n",
    "        # P(intent|sentiment)\n",
    "        p_intent_given_sentiment = pd.crosstab(\n",
    "            self.sentiment_labels,\n",
    "            self.intent_labels,\n",
    "            normalize='index'\n",
    "        )\n",
    "\n",
    "        # P(sentiment|intent)\n",
    "        p_sentiment_given_intent = pd.crosstab(\n",
    "            self.sentiment_labels,\n",
    "            self.intent_labels,\n",
    "            normalize='columns'\n",
    "        )\n",
    "\n",
    "        return p_intent_given_sentiment, p_sentiment_given_intent\n",
    "\n",
    "    def plot_heatmap(self, matrix: pd.DataFrame, title: str):\n",
    "        \"\"\"Plot heatmap\"\"\"\n",
    "        # Map numerical labels to categories\n",
    "        matrix.index = [self.sentiment_labelmap[label] for label in matrix.index]\n",
    "        matrix.columns = [self.intent_labelmap[label] for label in matrix.columns]\n",
    "\n",
    "        plt.figure(figsize=(10, 8))\n",
    "        sns.heatmap(\n",
    "            matrix,\n",
    "            annot=True,\n",
    "            fmt='.2f',\n",
    "            cmap='YlOrRd',\n",
    "            cbar_kws={'label': 'Probability'}\n",
    "        )\n",
    "        plt.title(title)\n",
    "        plt.tight_layout()\n",
    "        plt.show()\n",
    "\n",
    "    def analyze_label_correlations(self):\n",
    "        \"\"\"Perform full correlation analysis\"\"\"\n",
    "        # 1. Compute and display joint distribution\n",
    "        joint_dist = self.get_contingency_table()\n",
    "        print(\"Joint Distribution:\")\n",
    "        print(joint_dist)\n",
    "        print(\"\\n\")\n",
    "\n",
    "        # 2. Chi-square test\n",
    "        chi2, p_value = self.chi_square_test()\n",
    "        print(f\"Chi-square test results:\")\n",
    "        print(f\"Chi-square statistic: {chi2:.2f}\")\n",
    "        print(f\"p-value: {p_value:.4f}\")\n",
    "        print(\"\\n\")\n",
    "\n",
    "        # 3. Mutual information analysis\n",
    "        mi, nmi = self.mutual_information()\n",
    "        print(f\"Mutual Information Analysis:\")\n",
    "        print(f\"Mutual Information: {mi:.4f}\")\n",
    "        print(f\"Normalized Mutual Information: {nmi:.4f}\")\n",
    "        print(\"\\n\")\n",
    "\n",
    "        # 4. Conditional probability analysis\n",
    "        p_intent_given_sentiment, p_sentiment_given_intent = self.conditional_probabilities()\n",
    "\n",
    "        # 5. Visualization\n",
    "        self.plot_heatmap(joint_dist, \"Joint Distribution of Sentiment and Intent\")\n",
    "        self.plot_heatmap(p_intent_given_sentiment, \"P(Intent|Sentiment)\")\n",
    "        self.plot_heatmap(p_sentiment_given_intent, \"P(Sentiment|Intent)\")\n",
    "\n",
    "    def get_label_statistics(self) -> Dict:\n",
    "        \"\"\"Compute label statistics\"\"\"\n",
    "        stats = {\n",
    "            'sentiment_distribution': pd.Series(self.sentiment_labels).value_counts().to_dict(),\n",
    "            'intent_distribution': pd.Series(self.intent_labels).value_counts().to_dict(),\n",
    "            'total_samples': len(self.sentiment_labels),\n",
    "            'sentiment_classes': len(self.sentiment_classes),\n",
    "            'intent_classes': len(self.intent_classes)\n",
    "        }\n",
    "        return stats\n",
    "\n",
    "    @staticmethod\n",
    "    def from_dataloader(dataloader: DataLoader) -> 'LabelCorrelationAnalyzer':\n",
    "        \"\"\"Create analyzer from DataLoader\"\"\"\n",
    "        sentiment_labels = []\n",
    "        intent_labels = []\n",
    "\n",
    "        for batch in dataloader:\n",
    "            sentiment_labels.extend(batch['sentiment_labels'].numpy())\n",
    "            intent_labels.extend(batch['intent_labels'].numpy())\n",
    "\n",
    "        return LabelCorrelationAnalyzer(\n",
    "            np.array(sentiment_labels),\n",
    "            np.array(intent_labels)\n",
    "        )\n",
    "\n",
    "\n",
    "df_intent = df_intent[df_intent['intent'] != 'unknown'] # Remove unknown intent labels\n",
    "df_intent = df_intent[df_intent['confidence'] > 0.8] # Filter out low confidence scores\n",
    "\n",
    "sentiment_id2label = {0: 'neutral', 1: 'positive', 2: 'negative'}\n",
    "intent_id2label = {0: 'background', 1: 'method', 2: 'result'}\n",
    "intent_label2id = {'background': 0, 'method': 1, 'result': 2}\n",
    "df_intent['intent'] = df_intent['intent'].map(intent_label2id).astype(int)\n",
    "\n",
    "sentiment_labels = df_intent['sentiment'].tolist()\n",
    "intent_labels = df_intent['intent'].tolist()"
   ]
  },
  {
   "cell_type": "code",
   "execution_count": null,
   "id": "a3e1a2a6416199ed",
   "metadata": {
    "ExecuteTime": {
     "end_time": "2024-10-31T12:36:23.710536Z",
     "start_time": "2024-10-31T12:36:23.364071Z"
    }
   },
   "outputs": [],
   "source": [
    "# Convert to numpy arrays\n",
    "sentiment_labels = np.array(sentiment_labels)# 2: negative, 0: neutral, 1: positive\n",
    "intent_labels = np.array(intent_labels)# 0: background, 1: method, 2: result\n",
    "\n",
    "# Assuming sentiment_labels and intent_labels are already defined as numpy arrays\n",
    "analyzer = LabelCorrelationAnalyzer(sentiment_labels, intent_labels, sentiment_id2label, intent_id2label)\n",
    "\n",
    "# Run full analysis\n",
    "analyzer.analyze_label_correlations()\n",
    "\n",
    "# Get label statistics\n",
    "stats = analyzer.get_label_statistics()\n",
    "print(\"Label Statistics:\", stats)"
   ]
  },
  {
   "cell_type": "markdown",
   "id": "c5c69df44310dd28",
   "metadata": {},
   "source": [
    "## CSA_raw_dataset"
   ]
  },
  {
   "cell_type": "code",
   "execution_count": null,
   "id": "dc5e9663bf40fdc1",
   "metadata": {
    "ExecuteTime": {
     "end_time": "2024-10-31T12:36:23.836589Z",
     "start_time": "2024-10-31T12:36:23.744094Z"
    }
   },
   "outputs": [],
   "source": [
    "df_neutral = pd.read_csv('CSA_raw_dataset/athar_context_full_derived/NEUTRAL.csv')\n",
    "df_negative = pd.read_csv('CSA_raw_dataset/athar_context_full_derived/NEGATIVE.csv')\n",
    "df_positive = pd.read_csv('CSA_raw_dataset/athar_context_full_derived/POSITIVE.csv')\n",
    "df_neutral['Sentiment'] = 'Neutral'\n",
    "df_negative['Sentiment'] = 'Negative'\n",
    "df_positive['Sentiment'] = 'Positive'\n",
    "\n",
    "df_neutral.columns = ['Text'] + list(df_neutral.columns[1:])\n",
    "df_negative.columns = ['Text'] + list(df_negative.columns[1:])\n",
    "df_positive.columns = ['Text'] + list(df_positive.columns[1:])\n",
    "\n",
    "df_combined = pd.concat([df_neutral[['Text', 'Sentiment']], df_negative[['Text', 'Sentiment']], df_positive[['Text', 'Sentiment']]], ignore_index=True)\n",
    "df_combined = df_combined.sample(frac=1).reset_index(drop=True) # Shuffle the rows\n",
    "df_combined.to_csv('CSA_raw_dataset/athar_context_full_derived/combined.csv', index=False)\n",
    "sentiment_counts = df_combined['Sentiment'].value_counts()\n",
    "\n",
    "fig, ax = plt.subplots(figsize=(8, 6))\n",
    "sentiment_counts.plot(kind='bar', ax=ax)\n",
    "for i, count in enumerate(sentiment_counts):\n",
    "    ax.text(i, count, str(count), ha='center', va='bottom')\n",
    "\n",
    "plt.xlabel('Sentiment')\n",
    "plt.ylabel('Count')\n",
    "plt.title('Sentiment Distribution')\n",
    "plt.show()"
   ]
  },
  {
   "cell_type": "code",
   "execution_count": null,
   "id": "ddb43370ab5ccd04",
   "metadata": {
    "ExecuteTime": {
     "end_time": "2024-10-31T12:36:23.868638Z",
     "start_time": "2024-10-31T12:36:23.848613Z"
    }
   },
   "outputs": [],
   "source": [
    "df_combined.info()"
   ]
  },
  {
   "cell_type": "code",
   "execution_count": null,
   "id": "9b42ca386a724f3d",
   "metadata": {
    "ExecuteTime": {
     "end_time": "2024-10-31T12:36:23.898981Z",
     "start_time": "2024-10-31T12:36:23.885165Z"
    }
   },
   "outputs": [],
   "source": [
    "df_combined.head()"
   ]
  },
  {
   "cell_type": "code",
   "execution_count": null,
   "id": "433edf682afe591f",
   "metadata": {
    "ExecuteTime": {
     "end_time": "2024-10-31T12:36:23.976826Z",
     "start_time": "2024-10-31T12:36:23.967818Z"
    }
   },
   "outputs": [],
   "source": [
    "df_critical = pd.read_csv('20220206_CORPUS_critical_citations_DATA_PAPER.csv')\n",
    "df_critical"
   ]
  },
  {
   "cell_type": "code",
   "execution_count": null,
   "id": "4bfaba2327769301",
   "metadata": {
    "ExecuteTime": {
     "end_time": "2024-10-31T12:36:26.015614Z",
     "start_time": "2024-10-31T12:36:26.002076Z"
    }
   },
   "outputs": [],
   "source": [
    "def load_negative_text_unrepeated(filepath='../data/20220206_CORPUS_critical_citations_DATA_PAPER.csv'):\n",
    "    df = pd.read_csv(filepath)\n",
    "    df = df[df['Source'] != 'Athar_2011']\n",
    "\n",
    "    return df['Context'].tolist()\n",
    "\n",
    "negative_texts = load_negative_text_unrepeated()"
   ]
  },
  {
   "cell_type": "code",
   "execution_count": null,
   "id": "25ccee1c3ee0dbb4",
   "metadata": {
    "ExecuteTime": {
     "end_time": "2024-10-27T11:23:36.766960800Z",
     "start_time": "2024-10-27T11:17:53.762395Z"
    }
   },
   "outputs": [],
   "source": [
    "# raw_df = pd.read_csv('citation_sentiment_corpus.csv')\n",
    "# negative_citation_texts = raw_df[raw_df['Sentiment'] == 'n']['Citation_Text'].tolist()\n",
    "# positive_citation_texts = raw_df[raw_df['Sentiment'] == 'p']['Citation_Text'].tolist()\n",
    "# neutral_citation_texts = raw_df[raw_df['Sentiment'] == 'o']['Citation_Text'].tolist()\n",
    "\n",
    "raw_df = pd.read_csv('corpus.csv')\n",
    "negative_citation_texts = raw_df[raw_df['Sentiment'] == 2]['Citation_Text'].tolist()\n",
    "positive_citation_texts = raw_df[raw_df['Sentiment'] == 1]['Citation_Text'].tolist()\n",
    "neutral_citation_texts = raw_df[raw_df['Sentiment'] == 0]['Citation_Text'].tolist()\n",
    "\n",
    "combined_negative_texts = negative_texts + negative_citation_texts\n",
    "\n",
    "df_negative = pd.DataFrame({'Text': combined_negative_texts, 'Sentiment': 'Negative'})\n",
    "df_positive = pd.DataFrame({'Text': positive_citation_texts, 'Sentiment': 'Positive'})\n",
    "df_neutral = pd.DataFrame({'Text': neutral_citation_texts, 'Sentiment': 'Neutral'})\n",
    "df_combined = pd.concat([df_neutral[['Text', 'Sentiment']], df_positive[['Text', 'Sentiment']], df_negative[['Text', 'Sentiment']]], ignore_index=True)\n",
    "df_combined = df_combined.sample(frac=1).reset_index(drop=True)\n",
    "# df_combined.to_csv('citation_sentiment_corpus_expand.csv', index=False)\n",
    "\n",
    "df_combined.info()"
   ]
  },
  {
   "cell_type": "code",
   "execution_count": null,
   "id": "affc6505e4dcc91e",
   "metadata": {
    "ExecuteTime": {
     "end_time": "2024-10-27T11:23:36.766960800Z",
     "start_time": "2024-10-27T06:35:38.303089Z"
    }
   },
   "outputs": [],
   "source": [
    "fig, ax = plt.subplots(figsize=(8,6))\n",
    "df_combined.Sentiment.value_counts().plot(kind = 'bar',ax=ax)\n",
    "for i, count in enumerate(df_combined.Sentiment.value_counts()):\n",
    "    ax.text(i, count, str(count), ha='center', va='bottom')\n",
    "plt.xlabel('Citation Sentiments')\n",
    "plt.ylabel('Values count')\n",
    "plt.show()"
   ]
  },
  {
   "cell_type": "markdown",
   "id": "b2fd5d6b73a281f1",
   "metadata": {},
   "source": "## check ACOS Verified OUTPUT"
  },
  {
   "cell_type": "code",
   "id": "4da24889eb20a1c2",
   "metadata": {
    "ExecuteTime": {
     "end_time": "2024-12-10T06:45:41.542287Z",
     "start_time": "2024-12-10T06:45:41.461531Z"
    }
   },
   "source": [
    "import json\n",
    "from collections import Counter\n",
    "\n",
    "filepath = '../output/asqp_results_v2/llama405b_llama8b_verified.json'\n",
    "\n",
    "with open(filepath, 'r', encoding='utf-8') as f:\n",
    "    data = json.load(f)\n",
    "\n",
    "CATEGORY2ID = {\n",
    "    'METHODOLOGY': 0,\n",
    "    'PERFORMANCE': 1,\n",
    "    'INNOVATION': 2,\n",
    "    'APPLICABILITY': 3,\n",
    "    'LIMITATION': 4\n",
    "}\n",
    "\n",
    "pos_neg_samples = []\n",
    "for item in data:\n",
    "    if item['overall_sentiment'] in ['positive', 'negative']:\n",
    "        pos_neg_samples.append({\n",
    "            'text': item['text'],\n",
    "            'overall_sentiment': item['overall_sentiment'],\n",
    "            'quads': item['final_quadruples'] # 加载verified的四元组\n",
    "        })\n",
    "\n",
    "aspect_categories = [quad[2] for sample in pos_neg_samples for quad in sample['quads']]\n",
    "category_counts = Counter(aspect_categories)\n",
    "invalid_aspect_categories = set(aspect_categories) - set(CATEGORY2ID.keys())\n",
    "\n",
    "for sample in pos_neg_samples:\n",
    "    for quad in sample['quads']:\n",
    "        if quad[2] in invalid_aspect_categories:\n",
    "            print(f\"Text: {sample['text']}\")\n",
    "            print(f\"Quad: {quad}\")\n",
    "            print()\n",
    "        if quad[3] not in ['positive', 'negative']:\n",
    "            print(f\"Text: {sample['text']}\")\n",
    "            print(f\"Quad: {quad}\")\n",
    "            print()"
   ],
   "outputs": [],
   "execution_count": 8
  },
  {
   "cell_type": "code",
   "id": "994fcdd8ae8d473",
   "metadata": {
    "ExecuteTime": {
     "end_time": "2024-12-10T06:48:03.646482Z",
     "start_time": "2024-12-10T06:48:03.549251Z"
    }
   },
   "source": [
    "# Process the data\n",
    "for sample in data:\n",
    "    quads = sample['final_quadruples']\n",
    "    filtered_quads = [quad for quad in quads if quad[3] in ['positive', 'negative']]\n",
    "    filtered_quads = [quad for quad in filtered_quads if quad[2] in CATEGORY2ID.keys()]\n",
    "    if filtered_quads:\n",
    "        sample['final_quadruples'] = filtered_quads\n",
    "    else:\n",
    "        # If all quadruples would be removed, keep the original quadruples\n",
    "        pass  # Keep the original quadruples\n",
    "\n",
    "# Save the modified data\n",
    "with open(filepath, 'w', encoding='utf-8') as f:\n",
    "    json.dump(data, f, ensure_ascii=False, indent=4)"
   ],
   "outputs": [],
   "execution_count": 13
  },
  {
   "cell_type": "code",
   "id": "63d85faf",
   "metadata": {
    "ExecuteTime": {
     "end_time": "2024-12-10T06:49:32.277945Z",
     "start_time": "2024-12-10T06:49:32.104330Z"
    }
   },
   "source": [
    "import json\n",
    "import matplotlib.pyplot as plt\n",
    "import seaborn as sns\n",
    "import pandas as pd\n",
    "\n",
    "\n",
    "sentiments = []\n",
    "confidences = []\n",
    "for sample in pos_neg_samples:\n",
    "    for quad in sample['quads']:\n",
    "        sentiments.append(quad[3])\n",
    "        if isinstance(quad[4], float):\n",
    "            confidences.append(quad[4])\n",
    "\n",
    "\n",
    "# 创建情感分布图\n",
    "plt.figure(figsize=(10, 5))\n",
    "plt.subplot(1, 2, 1)\n",
    "sentiment_counts = pd.Series(sentiments).value_counts()\n",
    "sns.barplot(x=sentiment_counts.index, y=sentiment_counts.values)\n",
    "plt.title('Sentiment Distribution')\n",
    "plt.xlabel('Sentiment')\n",
    "plt.ylabel('Count')\n",
    "\n",
    "# 创建置信度分布图\n",
    "plt.subplot(1, 2, 2)\n",
    "sns.histplot(confidences, bins=30)\n",
    "plt.title('Confidence Distribution')\n",
    "plt.xlabel('Confidence')\n",
    "plt.ylabel('Count')\n",
    "\n",
    "plt.tight_layout()\n",
    "plt.show()\n",
    "\n",
    "# 打印一些基本统计信息\n",
    "print(\"\\nSentiment Distribution:\")\n",
    "print(sentiment_counts)\n",
    "print(\"\\nConfidence Statistics:\")\n",
    "print(f\"Mean confidence: {sum(confidences)/len(confidences):.4f}\")\n",
    "print(f\"Max confidence: {max(confidences):.4f}\")\n",
    "print(f\"Min confidence: {min(confidences):.4f}\")"
   ],
   "outputs": [
    {
     "data": {
      "text/plain": [
       "<Figure size 1000x500 with 2 Axes>"
      ],
      "image/png": "[encoded data removed]"
     },
     "metadata": {},
     "output_type": "display_data"
    },
    {
     "name": "stdout",
     "output_type": "stream",
     "text": [
      "\n",
      "Sentiment Distribution:\n",
      "positive    2632\n",
      "negative     822\n",
      "Name: count, dtype: int64\n",
      "\n",
      "Confidence Statistics:\n",
      "Mean confidence: 0.8961\n",
      "Max confidence: 0.9800\n",
      "Min confidence: 0.5000\n"
     ]
    }
   ],
   "execution_count": 15
  },
  {
   "metadata": {},
   "cell_type": "markdown",
   "source": "## check ACOS OUTPUT",
   "id": "8c9707a57e3967b8"
  },
  {
   "cell_type": "code",
   "id": "dd2f650e",
   "metadata": {
    "ExecuteTime": {
     "end_time": "2024-12-10T06:44:02.489456Z",
     "start_time": "2024-12-10T06:44:02.453367Z"
    }
   },
   "source": [
    "import json\n",
    "from collections import Counter\n",
    "\n",
    "filepath_neutral = '../output/asqp_results_v2/llama405b.json'\n",
    "\n",
    "with open(filepath_neutral, 'r', encoding='utf-8') as f:\n",
    "    data = json.load(f)\n",
    "\n",
    "neutral_samples = []\n",
    "for item in data:\n",
    "    if item['overall_sentiment'] in ['positive', 'negative']:\n",
    "        neutral_samples.append({\n",
    "            'text': item['text'],\n",
    "            'overall_sentiment': item['overall_sentiment'],\n",
    "            'quads': item['sentiment_quadruples']\n",
    "        })\n",
    "        \n",
    "     \n",
    "aspect_categories = [quad[2] for sample in neutral_samples for quad in sample['quads']]\n",
    "category_counts = Counter(aspect_categories)\n",
    "invalid_aspect_categories = set(aspect_categories) - set(CATEGORY2ID.keys())\n",
    "\n",
    "for sample in neutral_samples:\n",
    "    for quad in sample['quads']:\n",
    "        if quad[4] < 0.7:\n",
    "            print(f\"Text: {sample['text']}\")\n",
    "            print(f\"Quad: {quad}\")\n",
    "            print()\n",
    "        if quad[2] in invalid_aspect_categories:\n",
    "            print(f\"Text: {sample['text']}\")\n",
    "            print(f\"Quad: {quad}\")\n",
    "            print()\n",
    "        # if quad[3] in ['negative']:\n",
    "        #     print(f\"Text: {sample['text']}\")\n",
    "        #     print(f\"Quad: {quad}\")\n",
    "        #     print()\n"
   ],
   "outputs": [
    {
     "name": "stdout",
     "output_type": "stream",
     "text": [
      "Text: The work of Och et al (2004) is perhaps the bestknown study of new features and their impact on translation quality.\n",
      "Quad: ['impact on translation quality', 'no opinion explicitly mentioned but the overall sentiment is provided as negative', 'PERFORMANCE', 'negative', 0.6]\n",
      "\n",
      "Text: Work on applying machine learning techniques for automatic citation classification is currently underway (Teufel et al., 2006); the agreement of one annotator and the system is currently K=.57, leaving plenty of room for improvement in comparison with the human annotation results presented here\n",
      "Quad: ['automatic citation classification', 'currently underway', 'METHODOLOGY', 'positive', 0.6]\n",
      "\n",
      "Text:   examine the FS of the weighted log-likelihood ratio   on the movie review dataset and achieves an accuracy of 87.1%, which is higher than the result reported by Pang and Lee   with the same dataset.\n",
      "Quad: ['result', 'reported', 'PERFORMANCE', 'negative', 0.6]\n",
      "\n",
      "Text: Introduction The creation of the Penn Treebank   and the word sense-annotated SEMCOR   have shown how even limited amounts of annotated data can result in major improvements in complex natural language understanding systems.\n",
      "Quad: ['annotated data', 'limited', 'METHODOLOGY', 'negative', 0.6]\n",
      "\n",
      "Text: Perhaps the most well-known method is maximum marginal relevance    , as well as cross-sentence informational subsumption  , mixture models  , subtopic diversity  , diversity penalty  , and others.\n",
      "Quad: ['mixture models', None, 'METHODOLOGY', 'positive', 0.6]\n",
      "\n"
     ]
    }
   ],
   "execution_count": 5
  },
  {
   "cell_type": "code",
   "id": "285fac5e283da1d4",
   "metadata": {
    "ExecuteTime": {
     "end_time": "2024-12-10T06:44:58.957317Z",
     "start_time": "2024-12-10T06:44:58.912438Z"
    }
   },
   "source": [
    "# Process the data\n",
    "for sample in data:\n",
    "    quads = sample['sentiment_quadruples']\n",
    "    filtered_quads = [quad for quad in quads if quad[3] in ['positive', 'negative']]\n",
    "    filtered_quads = [quad for quad in filtered_quads if quad[2] in CATEGORY2ID.keys()]\n",
    "    if filtered_quads:\n",
    "        sample['sentiment_quadruples'] = filtered_quads\n",
    "    else:\n",
    "        # If all quadruples would be removed, keep the original quadruples\n",
    "        pass  # Keep the original quadruples\n",
    "\n",
    "# Save the modified data\n",
    "with open(filepath_neutral, 'w', encoding='utf-8') as f:\n",
    "    json.dump(data, f, ensure_ascii=False, indent=4)"
   ],
   "outputs": [],
   "execution_count": 6
  },
  {
   "cell_type": "code",
   "id": "c3bb87b9f6ce2c63",
   "metadata": {
    "ExecuteTime": {
     "end_time": "2024-12-10T06:45:06.266300Z",
     "start_time": "2024-12-10T06:45:06.029642Z"
    }
   },
   "source": [
    "import json\n",
    "import matplotlib.pyplot as plt\n",
    "import seaborn as sns\n",
    "import pandas as pd\n",
    "\n",
    "\n",
    "sentiments = []\n",
    "confidences = []\n",
    "for sample in neutral_samples:\n",
    "    for quad in sample['quads']:\n",
    "        sentiments.append(quad[3])\n",
    "        confidences.append(quad[4])\n",
    "\n",
    "\n",
    "# 创建情感分布图\n",
    "plt.figure(figsize=(10, 5))\n",
    "plt.subplot(1, 2, 1)\n",
    "sentiment_counts = pd.Series(sentiments).value_counts()\n",
    "sns.barplot(x=sentiment_counts.index, y=sentiment_counts.values)\n",
    "plt.title('Sentiment Distribution')\n",
    "plt.xlabel('Sentiment')\n",
    "plt.ylabel('Count')\n",
    "\n",
    "# 创建置信度分布图\n",
    "plt.subplot(1, 2, 2)\n",
    "sns.histplot(confidences, bins=30)\n",
    "plt.title('Confidence Distribution')\n",
    "plt.xlabel('Confidence')\n",
    "plt.ylabel('Count')\n",
    "\n",
    "plt.tight_layout()\n",
    "plt.show()\n",
    "\n",
    "# 打印一些基本统计信息\n",
    "print(\"\\nSentiment Distribution:\")\n",
    "print(sentiment_counts)\n",
    "print(\"\\nConfidence Statistics:\")\n",
    "print(f\"Mean confidence: {sum(confidences)/len(confidences):.4f}\")\n",
    "print(f\"Max confidence: {max(confidences):.4f}\")\n",
    "print(f\"Min confidence: {min(confidences):.4f}\")"
   ],
   "outputs": [
    {
     "data": {
      "text/plain": [
       "<Figure size 1000x500 with 2 Axes>"
      ],
      "image/png": "[encoded data removed]"
     },
     "metadata": {},
     "output_type": "display_data"
    },
    {
     "name": "stdout",
     "output_type": "stream",
     "text": [
      "\n",
      "Sentiment Distribution:\n",
      "positive    2662\n",
      "negative     836\n",
      "Name: count, dtype: int64\n",
      "\n",
      "Confidence Statistics:\n",
      "Mean confidence: 0.8958\n",
      "Max confidence: 0.9800\n",
      "Min confidence: 0.6000\n"
     ]
    }
   ],
   "execution_count": 7
  },
  {
   "cell_type": "code",
   "execution_count": null,
   "id": "baa35814502f0bc8",
   "metadata": {
    "ExecuteTime": {
     "end_time": "2024-12-01T06:05:45.642361Z",
     "start_time": "2024-12-01T06:05:45.520680Z"
    }
   },
   "outputs": [],
   "source": [
    "import matplotlib.pyplot as plt\n",
    "import numpy as np\n",
    "\n",
    "# 数据\n",
    "attention_methods = ['text as query', 'quad as query', 'bidirectional (ours)', 'cascaded']\n",
    "accuracy_scores = [97.4, 97.7, 98.1, 97.7]  # 示例数据\n",
    "f1_scores = [94.0, 95.0, 95.7, 94.4]       # 示例数据\n",
    "\n",
    "def create_comparison_plot(methods, accuracy, f1):\n",
    "    # 设置全局字体为 Times New Roman\n",
    "    plt.rcParams['font.family'] = 'Times New Roman'\n",
    "    plt.rcParams['font.size'] = 18\n",
    "\n",
    "    # 创建图形和轴\n",
    "    fig, ax1 = plt.subplots(figsize=(10, 6))\n",
    "    ax2 = ax1.twinx()\n",
    "\n",
    "    # 设置柱状图的位置\n",
    "    x = np.arange(len(methods))\n",
    "    width = 0.35\n",
    "\n",
    "    # 定义填充样式\n",
    "    hatch_patterns = ['/////', '\\\\\\\\\\\\\\\\\\\\']  # 斜线填充模式\n",
    "    colors = ['#1C577C', '#FFB74D']  # 浅蓝色和橙色\n",
    "\n",
    "    # 绘制柱状图\n",
    "    rects1 = ax1.bar(x - width/2, accuracy, width, label='Accuracy',\n",
    "                    color=colors[0], hatch=hatch_patterns[0], edgecolor='black')\n",
    "    rects2 = ax2.bar(x + width/2, f1, width, label='F1',\n",
    "                    color=colors[1], hatch=hatch_patterns[1], edgecolor='black')\n",
    "\n",
    "    # 设置x轴标签\n",
    "    ax1.set_xticks(x)\n",
    "    ax1.set_xticklabels(methods)\n",
    "\n",
    "    # 设置y轴标签\n",
    "    ax1.set_ylabel('Accuracy(%)')\n",
    "    ax2.set_ylabel('F1(%)')\n",
    "\n",
    "    # 设置网格线\n",
    "    ax1.yaxis.grid(True, linestyle='--', alpha=0.7)\n",
    "\n",
    "    # 隐藏右侧Y轴刻度\n",
    "    ax2.set_yticks([])\n",
    "\n",
    "    # 添加图例\n",
    "    lines1, labels1 = ax1.get_legend_handles_labels()\n",
    "    lines2, labels2 = ax2.get_legend_handles_labels()\n",
    "    ax1.legend(lines1 + lines2, labels1 + labels2,\n",
    "              loc='upper right', bbox_to_anchor=(1, 1),\n",
    "              frameon=True)\n",
    "\n",
    "    # 设置Y轴范围\n",
    "    y_min = min(min(accuracy), min(f1)) - 2\n",
    "    y_max = max(max(accuracy), max(f1)) + 1\n",
    "    ax1.set_ylim(y_min, y_max)\n",
    "    ax2.set_ylim(y_min, y_max)\n",
    "\n",
    "    # 调整布局\n",
    "    plt.tight_layout()\n",
    "\n",
    "    # 显示图形\n",
    "    plt.show()\n",
    "\n",
    "# 调用函数创建图表\n",
    "create_comparison_plot(attention_methods, accuracy_scores, f1_scores)"
   ]
  }
 ],
 "metadata": {
  "kernelspec": {
   "display_name": "cu121torch230",
   "language": "python",
   "name": "python3"
  },
  "language_info": {
   "codemirror_mode": {
    "name": "ipython",
    "version": 3
   },
   "file_extension": ".py",
   "mimetype": "text/x-python",
   "name": "python",
   "nbconvert_exporter": "python",
   "pygments_lexer": "ipython3",
   "version": "3.10.14"
  }
 },
 "nbformat": 4,
 "nbformat_minor": 5
}
