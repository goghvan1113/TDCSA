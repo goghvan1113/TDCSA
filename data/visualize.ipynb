{
 "cells": [
  {
   "metadata": {
    "ExecuteTime": {
     "end_time": "2024-10-18T13:15:48.555917Z",
     "start_time": "2024-10-18T13:15:48.537783Z"
    }
   },
   "cell_type": "code",
   "source": [
    "import warnings\n",
    "import json\n",
    "import pandas as pd\n",
    "import torch\n",
    "import random\n",
    "import numpy as np\n",
    "from collections import Counter\n",
    "import matplotlib.pyplot as plt\n",
    "from sklearn.model_selection import train_test_split\n",
    "from transformers import AutoModelForMaskedLM, AutoTokenizer, DataCollatorForLanguageModeling, Trainer, TrainingArguments"
   ],
   "id": "be9422c355946ecc",
   "outputs": [],
   "execution_count": 9
  },
  {
   "cell_type": "code",
   "id": "initial_id",
   "metadata": {
    "collapsed": true,
    "ExecuteTime": {
     "end_time": "2024-10-18T13:15:51.271083Z",
     "start_time": "2024-10-18T13:15:48.559422Z"
    }
   },
   "source": [
    "label2id = {\"background\": 0, \"method\": 1, \"result\": 2}\n",
    "id2label = {v: k for k, v in label2id.items()}\n",
    "\n",
    "def read_jsonl(file_path):\n",
    "    citations = []\n",
    "    intents = []\n",
    "    with open(file_path, 'r', encoding='utf-8') as f:\n",
    "        for line in f:\n",
    "            entry = json.loads(line.strip())\n",
    "            citation = entry.get('citation')\n",
    "            citation_intent = entry.get('citation_intent')\n",
    "            if citation and citation_intent:\n",
    "                citation_intent_id = label2id.get(citation_intent, -1)  # Use -1 for unknown labels\n",
    "                citations.append(citation)\n",
    "                intents.append(citation_intent_id)\n",
    "    return citations, intents\n",
    "\n",
    "train_citations, train_intents = read_jsonl('controllable-citation-generation/train.jsonl')\n",
    "test_citations, test_intents = read_jsonl('controllable-citation-generation/test.jsonl')\n",
    "val_citations, val_intents = read_jsonl('controllable-citation-generation/val.jsonl')\n",
    "data = train_intents + test_intents + val_intents\n",
    "\n",
    "label_counts = Counter(data)\n",
    "labels, counts = zip(*label_counts.items())\n",
    "labels = [id2label[label] for label in labels]\n",
    "\n",
    "plt.bar(labels, counts)\n",
    "plt.xlabel('Labels')\n",
    "plt.ylabel('Count')\n",
    "plt.title('Label Distribution')\n",
    "plt.show()\n",
    "\n",
    "print(\"Label counts:\", dict(zip(labels, counts)))"
   ],
   "outputs": [
    {
     "data": {
      "text/plain": [
       "<Figure size 640x480 with 1 Axes>"
      ],
      "image/png": "[encoded data removed]"
     },
     "metadata": {},
     "output_type": "display_data"
    },
    {
     "name": "stdout",
     "output_type": "stream",
     "text": [
      "Label counts: {'background': 123605, 'method': 92454, 'result': 19936}\n"
     ]
    }
   ],
   "execution_count": 10
  },
  {
   "metadata": {
    "ExecuteTime": {
     "end_time": "2024-10-18T13:15:51.364674Z",
     "start_time": "2024-10-18T13:15:51.340044Z"
    }
   },
   "cell_type": "code",
   "source": [
    "DATA_PATH = 'citation_sentiment_corpus_balanced.csv'\n",
    "df = pd.read_csv(DATA_PATH)\n",
    "print(df.shape)\n",
    "df.head()"
   ],
   "id": "64fcf911fbf24fa8",
   "outputs": [
    {
     "name": "stdout",
     "output_type": "stream",
     "text": [
      "(10108, 3)\n"
     ]
    },
    {
     "data": {
      "text/plain": [
       "                                       Citation_Text  Sentiment    Source\n",
       "0  al., 1994), compression of sentences with Auto...          1  original\n",
       "1  But in fact, the issue of editing in text summ...          1  original\n",
       "2  The recent approach for editing extracted text...          1  original\n",
       "3  Recent comparisons of approaches that can be t...          1  original\n",
       "4  One of the most effective taggers based on a p...          1  original"
      ],
      "text/html": [
       "<div>\n",
       "<style scoped>\n",
       "    .dataframe tbody tr th:only-of-type {\n",
       "        vertical-align: middle;\n",
       "    }\n",
       "\n",
       "    .dataframe tbody tr th {\n",
       "        vertical-align: top;\n",
       "    }\n",
       "\n",
       "    .dataframe thead th {\n",
       "        text-align: right;\n",
       "    }\n",
       "</style>\n",
       "<table border=\"1\" class=\"dataframe\">\n",
       "  <thead>\n",
       "    <tr style=\"text-align: right;\">\n",
       "      <th></th>\n",
       "      <th>Citation_Text</th>\n",
       "      <th>Sentiment</th>\n",
       "      <th>Source</th>\n",
       "    </tr>\n",
       "  </thead>\n",
       "  <tbody>\n",
       "    <tr>\n",
       "      <th>0</th>\n",
       "      <td>al., 1994), compression of sentences with Auto...</td>\n",
       "      <td>1</td>\n",
       "      <td>original</td>\n",
       "    </tr>\n",
       "    <tr>\n",
       "      <th>1</th>\n",
       "      <td>But in fact, the issue of editing in text summ...</td>\n",
       "      <td>1</td>\n",
       "      <td>original</td>\n",
       "    </tr>\n",
       "    <tr>\n",
       "      <th>2</th>\n",
       "      <td>The recent approach for editing extracted text...</td>\n",
       "      <td>1</td>\n",
       "      <td>original</td>\n",
       "    </tr>\n",
       "    <tr>\n",
       "      <th>3</th>\n",
       "      <td>Recent comparisons of approaches that can be t...</td>\n",
       "      <td>1</td>\n",
       "      <td>original</td>\n",
       "    </tr>\n",
       "    <tr>\n",
       "      <th>4</th>\n",
       "      <td>One of the most effective taggers based on a p...</td>\n",
       "      <td>1</td>\n",
       "      <td>original</td>\n",
       "    </tr>\n",
       "  </tbody>\n",
       "</table>\n",
       "</div>"
      ]
     },
     "execution_count": 11,
     "metadata": {},
     "output_type": "execute_result"
    }
   ],
   "execution_count": 11
  },
  {
   "metadata": {
    "ExecuteTime": {
     "end_time": "2024-10-18T13:15:51.533967Z",
     "start_time": "2024-10-18T13:15:51.472870Z"
    }
   },
   "cell_type": "code",
   "source": [
    "fig, ax = plt.subplots(figsize=(8,6))\n",
    "df.Sentiment.value_counts().plot(kind = 'bar',ax=ax)\n",
    "for i, count in enumerate(df.Sentiment.value_counts()):\n",
    "    ax.text(i, count, str(count), ha='center', va='bottom')\n",
    "plt.xlabel('Citation Sentiments')\n",
    "plt.ylabel('Values count')\n",
    "plt.show()"
   ],
   "id": "d8edf2f006e25ca2",
   "outputs": [
    {
     "data": {
      "text/plain": [
       "<Figure size 800x600 with 1 Axes>"
      ],
      "image/png": "[encoded data removed]"
     },
     "metadata": {},
     "output_type": "display_data"
    }
   ],
   "execution_count": 12
  },
  {
   "metadata": {
    "ExecuteTime": {
     "end_time": "2024-10-18T13:15:55.105074Z",
     "start_time": "2024-10-18T13:15:55.057806Z"
    }
   },
   "cell_type": "code",
   "source": [
    "from bert.sentiment_finetuning import load_sentiment_datasets\n",
    "\n",
    "sentences, labels = load_sentiment_datasets(filepath='../data/corpus.txt', is_spilit=False)\n"
   ],
   "id": "1c1dcccb5c4ad425",
   "outputs": [
    {
     "ename": "ModuleNotFoundError",
     "evalue": "No module named 'custom_loss'",
     "output_type": "error",
     "traceback": [
      "\u001B[1;31m---------------------------------------------------------------------------\u001B[0m",
      "\u001B[1;31mModuleNotFoundError\u001B[0m                       Traceback (most recent call last)",
      "Cell \u001B[1;32mIn[14], line 1\u001B[0m\n\u001B[1;32m----> 1\u001B[0m \u001B[38;5;28;01mfrom\u001B[39;00m \u001B[38;5;21;01mbert\u001B[39;00m\u001B[38;5;21;01m.\u001B[39;00m\u001B[38;5;21;01msentiment_finetuning\u001B[39;00m \u001B[38;5;28;01mimport\u001B[39;00m load_sentiment_datasets\n\u001B[0;32m      3\u001B[0m sentences, labels \u001B[38;5;241m=\u001B[39m load_sentiment_datasets(filepath\u001B[38;5;241m=\u001B[39m\u001B[38;5;124m'\u001B[39m\u001B[38;5;124m../data/corpus.txt\u001B[39m\u001B[38;5;124m'\u001B[39m, is_spilit\u001B[38;5;241m=\u001B[39m\u001B[38;5;28;01mFalse\u001B[39;00m)\n",
      "File \u001B[1;32mD:\\Seafile\\博二\\数据要素\\情感分析\\citation-sentiment-analysis\\bert\\sentiment_finetuning.py:18\u001B[0m\n\u001B[0;32m     15\u001B[0m \u001B[38;5;28;01mfrom\u001B[39;00m \u001B[38;5;21;01msklearn\u001B[39;00m\u001B[38;5;21;01m.\u001B[39;00m\u001B[38;5;21;01mmetrics\u001B[39;00m \u001B[38;5;28;01mimport\u001B[39;00m accuracy_score, precision_recall_fscore_support\n\u001B[0;32m     16\u001B[0m \u001B[38;5;28;01mfrom\u001B[39;00m \u001B[38;5;21;01mtransformers\u001B[39;00m \u001B[38;5;28;01mimport\u001B[39;00m AutoTokenizer, AutoModel, AutoModelForSequenceClassification, Trainer, TrainingArguments\n\u001B[1;32m---> 18\u001B[0m \u001B[38;5;28;01mfrom\u001B[39;00m \u001B[38;5;21;01mcustom_loss\u001B[39;00m \u001B[38;5;28;01mimport\u001B[39;00m MultiFocalLoss, MultiDSCLoss, AsymmetricLoss\n\u001B[0;32m     19\u001B[0m \u001B[38;5;28;01mfrom\u001B[39;00m \u001B[38;5;21;01mplot_results\u001B[39;00m \u001B[38;5;28;01mimport\u001B[39;00m plot_roc_curve, plot_pr_curve, plot_confusion_matrix\n\u001B[0;32m     22\u001B[0m \u001B[38;5;28;01mdef\u001B[39;00m \u001B[38;5;21mmain\u001B[39m(args):\n",
      "\u001B[1;31mModuleNotFoundError\u001B[0m: No module named 'custom_loss'"
     ]
    }
   ],
   "execution_count": 14
  },
  {
   "metadata": {},
   "cell_type": "code",
   "outputs": [],
   "execution_count": null,
   "source": "",
   "id": "dc556b0360370b"
  },
  {
   "metadata": {},
   "cell_type": "code",
   "outputs": [],
   "execution_count": null,
   "source": "",
   "id": "c97603aa55c493df"
  }
 ],
 "metadata": {
  "kernelspec": {
   "display_name": "Python 3",
   "language": "python",
   "name": "python3"
  },
  "language_info": {
   "codemirror_mode": {
    "name": "ipython",
    "version": 2
   },
   "file_extension": ".py",
   "mimetype": "text/x-python",
   "name": "python",
   "nbconvert_exporter": "python",
   "pygments_lexer": "ipython2",
   "version": "2.7.6"
  }
 },
 "nbformat": 4,
 "nbformat_minor": 5
}
